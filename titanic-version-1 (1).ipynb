{
 "cells": [
  {
   "cell_type": "markdown",
   "id": "23b2418e",
   "metadata": {
    "papermill": {
     "duration": 0.014115,
     "end_time": "2023-02-20T23:34:48.193784",
     "exception": false,
     "start_time": "2023-02-20T23:34:48.179669",
     "status": "completed"
    },
    "tags": []
   },
   "source": [
    "# **Titanic Survival**"
   ]
  },
  {
   "cell_type": "markdown",
   "id": "58077466",
   "metadata": {
    "papermill": {
     "duration": 0.012175,
     "end_time": "2023-02-20T23:34:48.218751",
     "exception": false,
     "start_time": "2023-02-20T23:34:48.206576",
     "status": "completed"
    },
    "tags": []
   },
   "source": [
    "This is my 1st run through of the titanic data set. There are many walkthroughs and tons of example code available for this dataset but this attempt will be done without using those 1st."
   ]
  },
  {
   "cell_type": "code",
   "execution_count": 1,
   "id": "7ca213aa",
   "metadata": {
    "execution": {
     "iopub.execute_input": "2023-02-20T23:34:48.248214Z",
     "iopub.status.busy": "2023-02-20T23:34:48.247577Z",
     "iopub.status.idle": "2023-02-20T23:34:49.304933Z",
     "shell.execute_reply": "2023-02-20T23:34:49.303988Z"
    },
    "papermill": {
     "duration": 1.074705,
     "end_time": "2023-02-20T23:34:49.307713",
     "exception": false,
     "start_time": "2023-02-20T23:34:48.233008",
     "status": "completed"
    },
    "tags": []
   },
   "outputs": [],
   "source": [
    "import pandas as pd\n",
    "import numpy as np\n",
    "import matplotlib.pyplot as plt\n",
    "import seaborn as sns\n",
    "\n",
    "%matplotlib inline"
   ]
  },
  {
   "cell_type": "code",
   "execution_count": 2,
   "id": "b38ea054",
   "metadata": {
    "execution": {
     "iopub.execute_input": "2023-02-20T23:34:49.335065Z",
     "iopub.status.busy": "2023-02-20T23:34:49.334647Z",
     "iopub.status.idle": "2023-02-20T23:34:49.355023Z",
     "shell.execute_reply": "2023-02-20T23:34:49.354045Z"
    },
    "papermill": {
     "duration": 0.036968,
     "end_time": "2023-02-20T23:34:49.357498",
     "exception": false,
     "start_time": "2023-02-20T23:34:49.320530",
     "status": "completed"
    },
    "tags": []
   },
   "outputs": [],
   "source": [
    "# Read in the training dataset from Kaggle.com\n",
    "df = pd.read_csv('/kaggle/input/titanic/train.csv')"
   ]
  },
  {
   "cell_type": "code",
   "execution_count": 3,
   "id": "f5b53151",
   "metadata": {
    "execution": {
     "iopub.execute_input": "2023-02-20T23:34:49.384616Z",
     "iopub.status.busy": "2023-02-20T23:34:49.384223Z",
     "iopub.status.idle": "2023-02-20T23:34:49.407423Z",
     "shell.execute_reply": "2023-02-20T23:34:49.406355Z"
    },
    "papermill": {
     "duration": 0.039707,
     "end_time": "2023-02-20T23:34:49.409931",
     "exception": false,
     "start_time": "2023-02-20T23:34:49.370224",
     "status": "completed"
    },
    "tags": []
   },
   "outputs": [
    {
     "data": {
      "text/html": [
       "<div>\n",
       "<style scoped>\n",
       "    .dataframe tbody tr th:only-of-type {\n",
       "        vertical-align: middle;\n",
       "    }\n",
       "\n",
       "    .dataframe tbody tr th {\n",
       "        vertical-align: top;\n",
       "    }\n",
       "\n",
       "    .dataframe thead th {\n",
       "        text-align: right;\n",
       "    }\n",
       "</style>\n",
       "<table border=\"1\" class=\"dataframe\">\n",
       "  <thead>\n",
       "    <tr style=\"text-align: right;\">\n",
       "      <th></th>\n",
       "      <th>PassengerId</th>\n",
       "      <th>Survived</th>\n",
       "      <th>Pclass</th>\n",
       "      <th>Name</th>\n",
       "      <th>Sex</th>\n",
       "      <th>Age</th>\n",
       "      <th>SibSp</th>\n",
       "      <th>Parch</th>\n",
       "      <th>Ticket</th>\n",
       "      <th>Fare</th>\n",
       "      <th>Cabin</th>\n",
       "      <th>Embarked</th>\n",
       "    </tr>\n",
       "  </thead>\n",
       "  <tbody>\n",
       "    <tr>\n",
       "      <th>0</th>\n",
       "      <td>1</td>\n",
       "      <td>0</td>\n",
       "      <td>3</td>\n",
       "      <td>Braund, Mr. Owen Harris</td>\n",
       "      <td>male</td>\n",
       "      <td>22.0</td>\n",
       "      <td>1</td>\n",
       "      <td>0</td>\n",
       "      <td>A/5 21171</td>\n",
       "      <td>7.2500</td>\n",
       "      <td>NaN</td>\n",
       "      <td>S</td>\n",
       "    </tr>\n",
       "    <tr>\n",
       "      <th>1</th>\n",
       "      <td>2</td>\n",
       "      <td>1</td>\n",
       "      <td>1</td>\n",
       "      <td>Cumings, Mrs. John Bradley (Florence Briggs Th...</td>\n",
       "      <td>female</td>\n",
       "      <td>38.0</td>\n",
       "      <td>1</td>\n",
       "      <td>0</td>\n",
       "      <td>PC 17599</td>\n",
       "      <td>71.2833</td>\n",
       "      <td>C85</td>\n",
       "      <td>C</td>\n",
       "    </tr>\n",
       "    <tr>\n",
       "      <th>2</th>\n",
       "      <td>3</td>\n",
       "      <td>1</td>\n",
       "      <td>3</td>\n",
       "      <td>Heikkinen, Miss. Laina</td>\n",
       "      <td>female</td>\n",
       "      <td>26.0</td>\n",
       "      <td>0</td>\n",
       "      <td>0</td>\n",
       "      <td>STON/O2. 3101282</td>\n",
       "      <td>7.9250</td>\n",
       "      <td>NaN</td>\n",
       "      <td>S</td>\n",
       "    </tr>\n",
       "    <tr>\n",
       "      <th>3</th>\n",
       "      <td>4</td>\n",
       "      <td>1</td>\n",
       "      <td>1</td>\n",
       "      <td>Futrelle, Mrs. Jacques Heath (Lily May Peel)</td>\n",
       "      <td>female</td>\n",
       "      <td>35.0</td>\n",
       "      <td>1</td>\n",
       "      <td>0</td>\n",
       "      <td>113803</td>\n",
       "      <td>53.1000</td>\n",
       "      <td>C123</td>\n",
       "      <td>S</td>\n",
       "    </tr>\n",
       "    <tr>\n",
       "      <th>4</th>\n",
       "      <td>5</td>\n",
       "      <td>0</td>\n",
       "      <td>3</td>\n",
       "      <td>Allen, Mr. William Henry</td>\n",
       "      <td>male</td>\n",
       "      <td>35.0</td>\n",
       "      <td>0</td>\n",
       "      <td>0</td>\n",
       "      <td>373450</td>\n",
       "      <td>8.0500</td>\n",
       "      <td>NaN</td>\n",
       "      <td>S</td>\n",
       "    </tr>\n",
       "  </tbody>\n",
       "</table>\n",
       "</div>"
      ],
      "text/plain": [
       "   PassengerId  Survived  Pclass  \\\n",
       "0            1         0       3   \n",
       "1            2         1       1   \n",
       "2            3         1       3   \n",
       "3            4         1       1   \n",
       "4            5         0       3   \n",
       "\n",
       "                                                Name     Sex   Age  SibSp  \\\n",
       "0                            Braund, Mr. Owen Harris    male  22.0      1   \n",
       "1  Cumings, Mrs. John Bradley (Florence Briggs Th...  female  38.0      1   \n",
       "2                             Heikkinen, Miss. Laina  female  26.0      0   \n",
       "3       Futrelle, Mrs. Jacques Heath (Lily May Peel)  female  35.0      1   \n",
       "4                           Allen, Mr. William Henry    male  35.0      0   \n",
       "\n",
       "   Parch            Ticket     Fare Cabin Embarked  \n",
       "0      0         A/5 21171   7.2500   NaN        S  \n",
       "1      0          PC 17599  71.2833   C85        C  \n",
       "2      0  STON/O2. 3101282   7.9250   NaN        S  \n",
       "3      0            113803  53.1000  C123        S  \n",
       "4      0            373450   8.0500   NaN        S  "
      ]
     },
     "execution_count": 3,
     "metadata": {},
     "output_type": "execute_result"
    }
   ],
   "source": [
    "#Having a look at the 1st rows of the dataset\n",
    "df.head()"
   ]
  },
  {
   "cell_type": "code",
   "execution_count": 4,
   "id": "87396d33",
   "metadata": {
    "execution": {
     "iopub.execute_input": "2023-02-20T23:34:49.437538Z",
     "iopub.status.busy": "2023-02-20T23:34:49.437136Z",
     "iopub.status.idle": "2023-02-20T23:34:49.454251Z",
     "shell.execute_reply": "2023-02-20T23:34:49.452944Z"
    },
    "papermill": {
     "duration": 0.033603,
     "end_time": "2023-02-20T23:34:49.456574",
     "exception": false,
     "start_time": "2023-02-20T23:34:49.422971",
     "status": "completed"
    },
    "tags": []
   },
   "outputs": [
    {
     "data": {
      "text/html": [
       "<div>\n",
       "<style scoped>\n",
       "    .dataframe tbody tr th:only-of-type {\n",
       "        vertical-align: middle;\n",
       "    }\n",
       "\n",
       "    .dataframe tbody tr th {\n",
       "        vertical-align: top;\n",
       "    }\n",
       "\n",
       "    .dataframe thead th {\n",
       "        text-align: right;\n",
       "    }\n",
       "</style>\n",
       "<table border=\"1\" class=\"dataframe\">\n",
       "  <thead>\n",
       "    <tr style=\"text-align: right;\">\n",
       "      <th></th>\n",
       "      <th>PassengerId</th>\n",
       "      <th>Survived</th>\n",
       "      <th>Pclass</th>\n",
       "      <th>Name</th>\n",
       "      <th>Sex</th>\n",
       "      <th>Age</th>\n",
       "      <th>SibSp</th>\n",
       "      <th>Parch</th>\n",
       "      <th>Ticket</th>\n",
       "      <th>Fare</th>\n",
       "      <th>Cabin</th>\n",
       "      <th>Embarked</th>\n",
       "    </tr>\n",
       "  </thead>\n",
       "  <tbody>\n",
       "    <tr>\n",
       "      <th>886</th>\n",
       "      <td>887</td>\n",
       "      <td>0</td>\n",
       "      <td>2</td>\n",
       "      <td>Montvila, Rev. Juozas</td>\n",
       "      <td>male</td>\n",
       "      <td>27.0</td>\n",
       "      <td>0</td>\n",
       "      <td>0</td>\n",
       "      <td>211536</td>\n",
       "      <td>13.00</td>\n",
       "      <td>NaN</td>\n",
       "      <td>S</td>\n",
       "    </tr>\n",
       "    <tr>\n",
       "      <th>887</th>\n",
       "      <td>888</td>\n",
       "      <td>1</td>\n",
       "      <td>1</td>\n",
       "      <td>Graham, Miss. Margaret Edith</td>\n",
       "      <td>female</td>\n",
       "      <td>19.0</td>\n",
       "      <td>0</td>\n",
       "      <td>0</td>\n",
       "      <td>112053</td>\n",
       "      <td>30.00</td>\n",
       "      <td>B42</td>\n",
       "      <td>S</td>\n",
       "    </tr>\n",
       "    <tr>\n",
       "      <th>888</th>\n",
       "      <td>889</td>\n",
       "      <td>0</td>\n",
       "      <td>3</td>\n",
       "      <td>Johnston, Miss. Catherine Helen \"Carrie\"</td>\n",
       "      <td>female</td>\n",
       "      <td>NaN</td>\n",
       "      <td>1</td>\n",
       "      <td>2</td>\n",
       "      <td>W./C. 6607</td>\n",
       "      <td>23.45</td>\n",
       "      <td>NaN</td>\n",
       "      <td>S</td>\n",
       "    </tr>\n",
       "    <tr>\n",
       "      <th>889</th>\n",
       "      <td>890</td>\n",
       "      <td>1</td>\n",
       "      <td>1</td>\n",
       "      <td>Behr, Mr. Karl Howell</td>\n",
       "      <td>male</td>\n",
       "      <td>26.0</td>\n",
       "      <td>0</td>\n",
       "      <td>0</td>\n",
       "      <td>111369</td>\n",
       "      <td>30.00</td>\n",
       "      <td>C148</td>\n",
       "      <td>C</td>\n",
       "    </tr>\n",
       "    <tr>\n",
       "      <th>890</th>\n",
       "      <td>891</td>\n",
       "      <td>0</td>\n",
       "      <td>3</td>\n",
       "      <td>Dooley, Mr. Patrick</td>\n",
       "      <td>male</td>\n",
       "      <td>32.0</td>\n",
       "      <td>0</td>\n",
       "      <td>0</td>\n",
       "      <td>370376</td>\n",
       "      <td>7.75</td>\n",
       "      <td>NaN</td>\n",
       "      <td>Q</td>\n",
       "    </tr>\n",
       "  </tbody>\n",
       "</table>\n",
       "</div>"
      ],
      "text/plain": [
       "     PassengerId  Survived  Pclass                                      Name  \\\n",
       "886          887         0       2                     Montvila, Rev. Juozas   \n",
       "887          888         1       1              Graham, Miss. Margaret Edith   \n",
       "888          889         0       3  Johnston, Miss. Catherine Helen \"Carrie\"   \n",
       "889          890         1       1                     Behr, Mr. Karl Howell   \n",
       "890          891         0       3                       Dooley, Mr. Patrick   \n",
       "\n",
       "        Sex   Age  SibSp  Parch      Ticket   Fare Cabin Embarked  \n",
       "886    male  27.0      0      0      211536  13.00   NaN        S  \n",
       "887  female  19.0      0      0      112053  30.00   B42        S  \n",
       "888  female   NaN      1      2  W./C. 6607  23.45   NaN        S  \n",
       "889    male  26.0      0      0      111369  30.00  C148        C  \n",
       "890    male  32.0      0      0      370376   7.75   NaN        Q  "
      ]
     },
     "execution_count": 4,
     "metadata": {},
     "output_type": "execute_result"
    }
   ],
   "source": [
    "#Having a look at the last rows of the data\n",
    "df.tail()"
   ]
  },
  {
   "cell_type": "markdown",
   "id": "1765df2b",
   "metadata": {
    "papermill": {
     "duration": 0.013036,
     "end_time": "2023-02-20T23:34:49.483046",
     "exception": false,
     "start_time": "2023-02-20T23:34:49.470010",
     "status": "completed"
    },
    "tags": []
   },
   "source": [
    "1st impressions are that there is missing data for cabin info and ages. "
   ]
  },
  {
   "cell_type": "code",
   "execution_count": 5,
   "id": "221584b4",
   "metadata": {
    "execution": {
     "iopub.execute_input": "2023-02-20T23:34:49.511558Z",
     "iopub.status.busy": "2023-02-20T23:34:49.511150Z",
     "iopub.status.idle": "2023-02-20T23:34:49.536691Z",
     "shell.execute_reply": "2023-02-20T23:34:49.535290Z"
    },
    "papermill": {
     "duration": 0.043018,
     "end_time": "2023-02-20T23:34:49.539610",
     "exception": false,
     "start_time": "2023-02-20T23:34:49.496592",
     "status": "completed"
    },
    "tags": []
   },
   "outputs": [
    {
     "name": "stdout",
     "output_type": "stream",
     "text": [
      "<class 'pandas.core.frame.DataFrame'>\n",
      "RangeIndex: 891 entries, 0 to 890\n",
      "Data columns (total 12 columns):\n",
      " #   Column       Non-Null Count  Dtype  \n",
      "---  ------       --------------  -----  \n",
      " 0   PassengerId  891 non-null    int64  \n",
      " 1   Survived     891 non-null    int64  \n",
      " 2   Pclass       891 non-null    int64  \n",
      " 3   Name         891 non-null    object \n",
      " 4   Sex          891 non-null    object \n",
      " 5   Age          714 non-null    float64\n",
      " 6   SibSp        891 non-null    int64  \n",
      " 7   Parch        891 non-null    int64  \n",
      " 8   Ticket       891 non-null    object \n",
      " 9   Fare         891 non-null    float64\n",
      " 10  Cabin        204 non-null    object \n",
      " 11  Embarked     889 non-null    object \n",
      "dtypes: float64(2), int64(5), object(5)\n",
      "memory usage: 83.7+ KB\n"
     ]
    }
   ],
   "source": [
    "#Let's check the integrity of the data\n",
    "df.info()"
   ]
  },
  {
   "cell_type": "markdown",
   "id": "6bae5064",
   "metadata": {
    "papermill": {
     "duration": 0.013008,
     "end_time": "2023-02-20T23:34:49.566883",
     "exception": false,
     "start_time": "2023-02-20T23:34:49.553875",
     "status": "completed"
    },
    "tags": []
   },
   "source": [
    "Data is missing for approximately 180 ages but around 700 cabins everything else appears intact."
   ]
  },
  {
   "cell_type": "code",
   "execution_count": 6,
   "id": "66cfbf1d",
   "metadata": {
    "execution": {
     "iopub.execute_input": "2023-02-20T23:34:49.595944Z",
     "iopub.status.busy": "2023-02-20T23:34:49.594775Z",
     "iopub.status.idle": "2023-02-20T23:34:49.629996Z",
     "shell.execute_reply": "2023-02-20T23:34:49.628875Z"
    },
    "papermill": {
     "duration": 0.052162,
     "end_time": "2023-02-20T23:34:49.632353",
     "exception": false,
     "start_time": "2023-02-20T23:34:49.580191",
     "status": "completed"
    },
    "tags": []
   },
   "outputs": [
    {
     "data": {
      "text/html": [
       "<div>\n",
       "<style scoped>\n",
       "    .dataframe tbody tr th:only-of-type {\n",
       "        vertical-align: middle;\n",
       "    }\n",
       "\n",
       "    .dataframe tbody tr th {\n",
       "        vertical-align: top;\n",
       "    }\n",
       "\n",
       "    .dataframe thead th {\n",
       "        text-align: right;\n",
       "    }\n",
       "</style>\n",
       "<table border=\"1\" class=\"dataframe\">\n",
       "  <thead>\n",
       "    <tr style=\"text-align: right;\">\n",
       "      <th></th>\n",
       "      <th>PassengerId</th>\n",
       "      <th>Survived</th>\n",
       "      <th>Pclass</th>\n",
       "      <th>Age</th>\n",
       "      <th>SibSp</th>\n",
       "      <th>Parch</th>\n",
       "      <th>Fare</th>\n",
       "    </tr>\n",
       "  </thead>\n",
       "  <tbody>\n",
       "    <tr>\n",
       "      <th>count</th>\n",
       "      <td>891.000000</td>\n",
       "      <td>891.000000</td>\n",
       "      <td>891.000000</td>\n",
       "      <td>714.000000</td>\n",
       "      <td>891.000000</td>\n",
       "      <td>891.000000</td>\n",
       "      <td>891.000000</td>\n",
       "    </tr>\n",
       "    <tr>\n",
       "      <th>mean</th>\n",
       "      <td>446.000000</td>\n",
       "      <td>0.383838</td>\n",
       "      <td>2.308642</td>\n",
       "      <td>29.699118</td>\n",
       "      <td>0.523008</td>\n",
       "      <td>0.381594</td>\n",
       "      <td>32.204208</td>\n",
       "    </tr>\n",
       "    <tr>\n",
       "      <th>std</th>\n",
       "      <td>257.353842</td>\n",
       "      <td>0.486592</td>\n",
       "      <td>0.836071</td>\n",
       "      <td>14.526497</td>\n",
       "      <td>1.102743</td>\n",
       "      <td>0.806057</td>\n",
       "      <td>49.693429</td>\n",
       "    </tr>\n",
       "    <tr>\n",
       "      <th>min</th>\n",
       "      <td>1.000000</td>\n",
       "      <td>0.000000</td>\n",
       "      <td>1.000000</td>\n",
       "      <td>0.420000</td>\n",
       "      <td>0.000000</td>\n",
       "      <td>0.000000</td>\n",
       "      <td>0.000000</td>\n",
       "    </tr>\n",
       "    <tr>\n",
       "      <th>25%</th>\n",
       "      <td>223.500000</td>\n",
       "      <td>0.000000</td>\n",
       "      <td>2.000000</td>\n",
       "      <td>20.125000</td>\n",
       "      <td>0.000000</td>\n",
       "      <td>0.000000</td>\n",
       "      <td>7.910400</td>\n",
       "    </tr>\n",
       "    <tr>\n",
       "      <th>50%</th>\n",
       "      <td>446.000000</td>\n",
       "      <td>0.000000</td>\n",
       "      <td>3.000000</td>\n",
       "      <td>28.000000</td>\n",
       "      <td>0.000000</td>\n",
       "      <td>0.000000</td>\n",
       "      <td>14.454200</td>\n",
       "    </tr>\n",
       "    <tr>\n",
       "      <th>75%</th>\n",
       "      <td>668.500000</td>\n",
       "      <td>1.000000</td>\n",
       "      <td>3.000000</td>\n",
       "      <td>38.000000</td>\n",
       "      <td>1.000000</td>\n",
       "      <td>0.000000</td>\n",
       "      <td>31.000000</td>\n",
       "    </tr>\n",
       "    <tr>\n",
       "      <th>max</th>\n",
       "      <td>891.000000</td>\n",
       "      <td>1.000000</td>\n",
       "      <td>3.000000</td>\n",
       "      <td>80.000000</td>\n",
       "      <td>8.000000</td>\n",
       "      <td>6.000000</td>\n",
       "      <td>512.329200</td>\n",
       "    </tr>\n",
       "  </tbody>\n",
       "</table>\n",
       "</div>"
      ],
      "text/plain": [
       "       PassengerId    Survived      Pclass         Age       SibSp  \\\n",
       "count   891.000000  891.000000  891.000000  714.000000  891.000000   \n",
       "mean    446.000000    0.383838    2.308642   29.699118    0.523008   \n",
       "std     257.353842    0.486592    0.836071   14.526497    1.102743   \n",
       "min       1.000000    0.000000    1.000000    0.420000    0.000000   \n",
       "25%     223.500000    0.000000    2.000000   20.125000    0.000000   \n",
       "50%     446.000000    0.000000    3.000000   28.000000    0.000000   \n",
       "75%     668.500000    1.000000    3.000000   38.000000    1.000000   \n",
       "max     891.000000    1.000000    3.000000   80.000000    8.000000   \n",
       "\n",
       "            Parch        Fare  \n",
       "count  891.000000  891.000000  \n",
       "mean     0.381594   32.204208  \n",
       "std      0.806057   49.693429  \n",
       "min      0.000000    0.000000  \n",
       "25%      0.000000    7.910400  \n",
       "50%      0.000000   14.454200  \n",
       "75%      0.000000   31.000000  \n",
       "max      6.000000  512.329200  "
      ]
     },
     "execution_count": 6,
     "metadata": {},
     "output_type": "execute_result"
    }
   ],
   "source": [
    "#Let's see some statistics on the data\n",
    "df.describe()"
   ]
  },
  {
   "cell_type": "code",
   "execution_count": 7,
   "id": "40c4ec0d",
   "metadata": {
    "execution": {
     "iopub.execute_input": "2023-02-20T23:34:49.661784Z",
     "iopub.status.busy": "2023-02-20T23:34:49.660779Z",
     "iopub.status.idle": "2023-02-20T23:34:49.959409Z",
     "shell.execute_reply": "2023-02-20T23:34:49.958112Z"
    },
    "papermill": {
     "duration": 0.315992,
     "end_time": "2023-02-20T23:34:49.962000",
     "exception": false,
     "start_time": "2023-02-20T23:34:49.646008",
     "status": "completed"
    },
    "tags": []
   },
   "outputs": [
    {
     "data": {
      "text/plain": [
       "<seaborn.axisgrid.FacetGrid at 0x7f01ebeef890>"
      ]
     },
     "execution_count": 7,
     "metadata": {},
     "output_type": "execute_result"
    },
    {
     "data": {
      "image/png": "[encoded data removed]",
      "text/plain": [
       "<Figure size 360x360 with 1 Axes>"
      ]
     },
     "metadata": {
      "needs_background": "light"
     },
     "output_type": "display_data"
    }
   ],
   "source": [
    "#I'd like to visualise the breakdown of passengers by class\n",
    "sns.catplot(data=df,x='Pclass',kind='count')"
   ]
  },
  {
   "cell_type": "code",
   "execution_count": 8,
   "id": "d63d1c13",
   "metadata": {
    "execution": {
     "iopub.execute_input": "2023-02-20T23:34:49.992385Z",
     "iopub.status.busy": "2023-02-20T23:34:49.991976Z",
     "iopub.status.idle": "2023-02-20T23:34:53.422406Z",
     "shell.execute_reply": "2023-02-20T23:34:53.421178Z"
    },
    "papermill": {
     "duration": 3.448906,
     "end_time": "2023-02-20T23:34:53.425013",
     "exception": false,
     "start_time": "2023-02-20T23:34:49.976107",
     "status": "completed"
    },
    "tags": []
   },
   "outputs": [
    {
     "data": {
      "text/plain": [
       "<seaborn.axisgrid.FacetGrid at 0x7f020e688d10>"
      ]
     },
     "execution_count": 8,
     "metadata": {},
     "output_type": "execute_result"
    },
    {
     "data": {
      "image/png": "[encoded data removed]",
      "text/plain": [
       "<Figure size 360x360 with 1 Axes>"
      ]
     },
     "metadata": {
      "needs_background": "light"
     },
     "output_type": "display_data"
    }
   ],
   "source": [
    "sns.catplot(data=df, x='Fare', kind='count')"
   ]
  },
  {
   "cell_type": "markdown",
   "id": "e4daa877",
   "metadata": {
    "papermill": {
     "duration": 0.01773,
     "end_time": "2023-02-20T23:34:53.460092",
     "exception": false,
     "start_time": "2023-02-20T23:34:53.442362",
     "status": "completed"
    },
    "tags": []
   },
   "source": [
    "So even though there are only 3 classes, there are a large number of different fares paid by the passengers."
   ]
  },
  {
   "cell_type": "code",
   "execution_count": 9,
   "id": "eb057207",
   "metadata": {
    "execution": {
     "iopub.execute_input": "2023-02-20T23:34:53.492184Z",
     "iopub.status.busy": "2023-02-20T23:34:53.491383Z",
     "iopub.status.idle": "2023-02-20T23:34:53.799704Z",
     "shell.execute_reply": "2023-02-20T23:34:53.798675Z"
    },
    "papermill": {
     "duration": 0.327164,
     "end_time": "2023-02-20T23:34:53.802419",
     "exception": false,
     "start_time": "2023-02-20T23:34:53.475255",
     "status": "completed"
    },
    "tags": []
   },
   "outputs": [
    {
     "data": {
      "text/plain": [
       "<AxesSubplot:xlabel='Fare', ylabel='Age'>"
      ]
     },
     "execution_count": 9,
     "metadata": {},
     "output_type": "execute_result"
    },
    {
     "data": {
      "image/png": "[encoded data removed]",
      "text/plain": [
       "<Figure size 432x288 with 1 Axes>"
      ]
     },
     "metadata": {
      "needs_background": "light"
     },
     "output_type": "display_data"
    }
   ],
   "source": [
    "sns.scatterplot(data=df, x='Fare',y='Age',hue='Pclass',palette='bright')"
   ]
  },
  {
   "cell_type": "code",
   "execution_count": 10,
   "id": "6f5eef53",
   "metadata": {
    "execution": {
     "iopub.execute_input": "2023-02-20T23:34:53.840855Z",
     "iopub.status.busy": "2023-02-20T23:34:53.839948Z",
     "iopub.status.idle": "2023-02-20T23:34:54.109900Z",
     "shell.execute_reply": "2023-02-20T23:34:54.108417Z"
    },
    "papermill": {
     "duration": 0.28947,
     "end_time": "2023-02-20T23:34:54.112248",
     "exception": false,
     "start_time": "2023-02-20T23:34:53.822778",
     "status": "completed"
    },
    "tags": []
   },
   "outputs": [
    {
     "data": {
      "text/plain": [
       "<AxesSubplot:>"
      ]
     },
     "execution_count": 10,
     "metadata": {},
     "output_type": "execute_result"
    },
    {
     "data": {
      "image/png": "[encoded data removed]",
      "text/plain": [
       "<Figure size 432x288 with 1 Axes>"
      ]
     },
     "metadata": {
      "needs_background": "light"
     },
     "output_type": "display_data"
    }
   ],
   "source": [
    "sns.boxplot(data=df)"
   ]
  },
  {
   "cell_type": "code",
   "execution_count": 11,
   "id": "4b8fa631",
   "metadata": {
    "execution": {
     "iopub.execute_input": "2023-02-20T23:34:54.145362Z",
     "iopub.status.busy": "2023-02-20T23:34:54.144958Z",
     "iopub.status.idle": "2023-02-20T23:34:54.443787Z",
     "shell.execute_reply": "2023-02-20T23:34:54.442604Z"
    },
    "papermill": {
     "duration": 0.317943,
     "end_time": "2023-02-20T23:34:54.446241",
     "exception": false,
     "start_time": "2023-02-20T23:34:54.128298",
     "status": "completed"
    },
    "tags": []
   },
   "outputs": [
    {
     "data": {
      "text/plain": [
       "<AxesSubplot:>"
      ]
     },
     "execution_count": 11,
     "metadata": {},
     "output_type": "execute_result"
    },
    {
     "data": {
      "image/png": "[encoded data removed]",
      "text/plain": [
       "<Figure size 432x288 with 1 Axes>"
      ]
     },
     "metadata": {
      "needs_background": "light"
     },
     "output_type": "display_data"
    }
   ],
   "source": [
    "#I want to see if there is an anomoly in the Fare data, do we need to clean it?\n",
    "sns.boxplot(data=df['Fare'])"
   ]
  },
  {
   "cell_type": "code",
   "execution_count": 12,
   "id": "2fcf918b",
   "metadata": {
    "execution": {
     "iopub.execute_input": "2023-02-20T23:34:54.479277Z",
     "iopub.status.busy": "2023-02-20T23:34:54.478867Z",
     "iopub.status.idle": "2023-02-20T23:34:54.511472Z",
     "shell.execute_reply": "2023-02-20T23:34:54.510359Z"
    },
    "papermill": {
     "duration": 0.051751,
     "end_time": "2023-02-20T23:34:54.513806",
     "exception": false,
     "start_time": "2023-02-20T23:34:54.462055",
     "status": "completed"
    },
    "tags": []
   },
   "outputs": [
    {
     "data": {
      "text/html": [
       "<div>\n",
       "<style scoped>\n",
       "    .dataframe tbody tr th:only-of-type {\n",
       "        vertical-align: middle;\n",
       "    }\n",
       "\n",
       "    .dataframe tbody tr th {\n",
       "        vertical-align: top;\n",
       "    }\n",
       "\n",
       "    .dataframe thead th {\n",
       "        text-align: right;\n",
       "    }\n",
       "</style>\n",
       "<table border=\"1\" class=\"dataframe\">\n",
       "  <thead>\n",
       "    <tr style=\"text-align: right;\">\n",
       "      <th></th>\n",
       "      <th>PassengerId</th>\n",
       "      <th>Survived</th>\n",
       "      <th>Pclass</th>\n",
       "      <th>Name</th>\n",
       "      <th>Sex</th>\n",
       "      <th>Age</th>\n",
       "      <th>SibSp</th>\n",
       "      <th>Parch</th>\n",
       "      <th>Ticket</th>\n",
       "      <th>Fare</th>\n",
       "      <th>Cabin</th>\n",
       "      <th>Embarked</th>\n",
       "    </tr>\n",
       "  </thead>\n",
       "  <tbody>\n",
       "    <tr>\n",
       "      <th>27</th>\n",
       "      <td>28</td>\n",
       "      <td>0</td>\n",
       "      <td>1</td>\n",
       "      <td>Fortune, Mr. Charles Alexander</td>\n",
       "      <td>male</td>\n",
       "      <td>19.00</td>\n",
       "      <td>3</td>\n",
       "      <td>2</td>\n",
       "      <td>19950</td>\n",
       "      <td>263.0000</td>\n",
       "      <td>C23 C25 C27</td>\n",
       "      <td>S</td>\n",
       "    </tr>\n",
       "    <tr>\n",
       "      <th>31</th>\n",
       "      <td>32</td>\n",
       "      <td>1</td>\n",
       "      <td>1</td>\n",
       "      <td>Spencer, Mrs. William Augustus (Marie Eugenie)</td>\n",
       "      <td>female</td>\n",
       "      <td>NaN</td>\n",
       "      <td>1</td>\n",
       "      <td>0</td>\n",
       "      <td>PC 17569</td>\n",
       "      <td>146.5208</td>\n",
       "      <td>B78</td>\n",
       "      <td>C</td>\n",
       "    </tr>\n",
       "    <tr>\n",
       "      <th>88</th>\n",
       "      <td>89</td>\n",
       "      <td>1</td>\n",
       "      <td>1</td>\n",
       "      <td>Fortune, Miss. Mabel Helen</td>\n",
       "      <td>female</td>\n",
       "      <td>23.00</td>\n",
       "      <td>3</td>\n",
       "      <td>2</td>\n",
       "      <td>19950</td>\n",
       "      <td>263.0000</td>\n",
       "      <td>C23 C25 C27</td>\n",
       "      <td>S</td>\n",
       "    </tr>\n",
       "    <tr>\n",
       "      <th>118</th>\n",
       "      <td>119</td>\n",
       "      <td>0</td>\n",
       "      <td>1</td>\n",
       "      <td>Baxter, Mr. Quigg Edmond</td>\n",
       "      <td>male</td>\n",
       "      <td>24.00</td>\n",
       "      <td>0</td>\n",
       "      <td>1</td>\n",
       "      <td>PC 17558</td>\n",
       "      <td>247.5208</td>\n",
       "      <td>B58 B60</td>\n",
       "      <td>C</td>\n",
       "    </tr>\n",
       "    <tr>\n",
       "      <th>195</th>\n",
       "      <td>196</td>\n",
       "      <td>1</td>\n",
       "      <td>1</td>\n",
       "      <td>Lurette, Miss. Elise</td>\n",
       "      <td>female</td>\n",
       "      <td>58.00</td>\n",
       "      <td>0</td>\n",
       "      <td>0</td>\n",
       "      <td>PC 17569</td>\n",
       "      <td>146.5208</td>\n",
       "      <td>B80</td>\n",
       "      <td>C</td>\n",
       "    </tr>\n",
       "    <tr>\n",
       "      <th>215</th>\n",
       "      <td>216</td>\n",
       "      <td>1</td>\n",
       "      <td>1</td>\n",
       "      <td>Newell, Miss. Madeleine</td>\n",
       "      <td>female</td>\n",
       "      <td>31.00</td>\n",
       "      <td>1</td>\n",
       "      <td>0</td>\n",
       "      <td>35273</td>\n",
       "      <td>113.2750</td>\n",
       "      <td>D36</td>\n",
       "      <td>C</td>\n",
       "    </tr>\n",
       "    <tr>\n",
       "      <th>258</th>\n",
       "      <td>259</td>\n",
       "      <td>1</td>\n",
       "      <td>1</td>\n",
       "      <td>Ward, Miss. Anna</td>\n",
       "      <td>female</td>\n",
       "      <td>35.00</td>\n",
       "      <td>0</td>\n",
       "      <td>0</td>\n",
       "      <td>PC 17755</td>\n",
       "      <td>512.3292</td>\n",
       "      <td>NaN</td>\n",
       "      <td>C</td>\n",
       "    </tr>\n",
       "    <tr>\n",
       "      <th>268</th>\n",
       "      <td>269</td>\n",
       "      <td>1</td>\n",
       "      <td>1</td>\n",
       "      <td>Graham, Mrs. William Thompson (Edith Junkins)</td>\n",
       "      <td>female</td>\n",
       "      <td>58.00</td>\n",
       "      <td>0</td>\n",
       "      <td>1</td>\n",
       "      <td>PC 17582</td>\n",
       "      <td>153.4625</td>\n",
       "      <td>C125</td>\n",
       "      <td>S</td>\n",
       "    </tr>\n",
       "    <tr>\n",
       "      <th>269</th>\n",
       "      <td>270</td>\n",
       "      <td>1</td>\n",
       "      <td>1</td>\n",
       "      <td>Bissette, Miss. Amelia</td>\n",
       "      <td>female</td>\n",
       "      <td>35.00</td>\n",
       "      <td>0</td>\n",
       "      <td>0</td>\n",
       "      <td>PC 17760</td>\n",
       "      <td>135.6333</td>\n",
       "      <td>C99</td>\n",
       "      <td>S</td>\n",
       "    </tr>\n",
       "    <tr>\n",
       "      <th>297</th>\n",
       "      <td>298</td>\n",
       "      <td>0</td>\n",
       "      <td>1</td>\n",
       "      <td>Allison, Miss. Helen Loraine</td>\n",
       "      <td>female</td>\n",
       "      <td>2.00</td>\n",
       "      <td>1</td>\n",
       "      <td>2</td>\n",
       "      <td>113781</td>\n",
       "      <td>151.5500</td>\n",
       "      <td>C22 C26</td>\n",
       "      <td>S</td>\n",
       "    </tr>\n",
       "    <tr>\n",
       "      <th>299</th>\n",
       "      <td>300</td>\n",
       "      <td>1</td>\n",
       "      <td>1</td>\n",
       "      <td>Baxter, Mrs. James (Helene DeLaudeniere Chaput)</td>\n",
       "      <td>female</td>\n",
       "      <td>50.00</td>\n",
       "      <td>0</td>\n",
       "      <td>1</td>\n",
       "      <td>PC 17558</td>\n",
       "      <td>247.5208</td>\n",
       "      <td>B58 B60</td>\n",
       "      <td>C</td>\n",
       "    </tr>\n",
       "    <tr>\n",
       "      <th>305</th>\n",
       "      <td>306</td>\n",
       "      <td>1</td>\n",
       "      <td>1</td>\n",
       "      <td>Allison, Master. Hudson Trevor</td>\n",
       "      <td>male</td>\n",
       "      <td>0.92</td>\n",
       "      <td>1</td>\n",
       "      <td>2</td>\n",
       "      <td>113781</td>\n",
       "      <td>151.5500</td>\n",
       "      <td>C22 C26</td>\n",
       "      <td>S</td>\n",
       "    </tr>\n",
       "    <tr>\n",
       "      <th>311</th>\n",
       "      <td>312</td>\n",
       "      <td>1</td>\n",
       "      <td>1</td>\n",
       "      <td>Ryerson, Miss. Emily Borie</td>\n",
       "      <td>female</td>\n",
       "      <td>18.00</td>\n",
       "      <td>2</td>\n",
       "      <td>2</td>\n",
       "      <td>PC 17608</td>\n",
       "      <td>262.3750</td>\n",
       "      <td>B57 B59 B63 B66</td>\n",
       "      <td>C</td>\n",
       "    </tr>\n",
       "    <tr>\n",
       "      <th>318</th>\n",
       "      <td>319</td>\n",
       "      <td>1</td>\n",
       "      <td>1</td>\n",
       "      <td>Wick, Miss. Mary Natalie</td>\n",
       "      <td>female</td>\n",
       "      <td>31.00</td>\n",
       "      <td>0</td>\n",
       "      <td>2</td>\n",
       "      <td>36928</td>\n",
       "      <td>164.8667</td>\n",
       "      <td>C7</td>\n",
       "      <td>S</td>\n",
       "    </tr>\n",
       "    <tr>\n",
       "      <th>319</th>\n",
       "      <td>320</td>\n",
       "      <td>1</td>\n",
       "      <td>1</td>\n",
       "      <td>Spedden, Mrs. Frederic Oakley (Margaretta Corn...</td>\n",
       "      <td>female</td>\n",
       "      <td>40.00</td>\n",
       "      <td>1</td>\n",
       "      <td>1</td>\n",
       "      <td>16966</td>\n",
       "      <td>134.5000</td>\n",
       "      <td>E34</td>\n",
       "      <td>C</td>\n",
       "    </tr>\n",
       "    <tr>\n",
       "      <th>325</th>\n",
       "      <td>326</td>\n",
       "      <td>1</td>\n",
       "      <td>1</td>\n",
       "      <td>Young, Miss. Marie Grice</td>\n",
       "      <td>female</td>\n",
       "      <td>36.00</td>\n",
       "      <td>0</td>\n",
       "      <td>0</td>\n",
       "      <td>PC 17760</td>\n",
       "      <td>135.6333</td>\n",
       "      <td>C32</td>\n",
       "      <td>C</td>\n",
       "    </tr>\n",
       "    <tr>\n",
       "      <th>332</th>\n",
       "      <td>333</td>\n",
       "      <td>0</td>\n",
       "      <td>1</td>\n",
       "      <td>Graham, Mr. George Edward</td>\n",
       "      <td>male</td>\n",
       "      <td>38.00</td>\n",
       "      <td>0</td>\n",
       "      <td>1</td>\n",
       "      <td>PC 17582</td>\n",
       "      <td>153.4625</td>\n",
       "      <td>C91</td>\n",
       "      <td>S</td>\n",
       "    </tr>\n",
       "    <tr>\n",
       "      <th>334</th>\n",
       "      <td>335</td>\n",
       "      <td>1</td>\n",
       "      <td>1</td>\n",
       "      <td>Frauenthal, Mrs. Henry William (Clara Heinshei...</td>\n",
       "      <td>female</td>\n",
       "      <td>NaN</td>\n",
       "      <td>1</td>\n",
       "      <td>0</td>\n",
       "      <td>PC 17611</td>\n",
       "      <td>133.6500</td>\n",
       "      <td>NaN</td>\n",
       "      <td>S</td>\n",
       "    </tr>\n",
       "    <tr>\n",
       "      <th>337</th>\n",
       "      <td>338</td>\n",
       "      <td>1</td>\n",
       "      <td>1</td>\n",
       "      <td>Burns, Miss. Elizabeth Margaret</td>\n",
       "      <td>female</td>\n",
       "      <td>41.00</td>\n",
       "      <td>0</td>\n",
       "      <td>0</td>\n",
       "      <td>16966</td>\n",
       "      <td>134.5000</td>\n",
       "      <td>E40</td>\n",
       "      <td>C</td>\n",
       "    </tr>\n",
       "    <tr>\n",
       "      <th>341</th>\n",
       "      <td>342</td>\n",
       "      <td>1</td>\n",
       "      <td>1</td>\n",
       "      <td>Fortune, Miss. Alice Elizabeth</td>\n",
       "      <td>female</td>\n",
       "      <td>24.00</td>\n",
       "      <td>3</td>\n",
       "      <td>2</td>\n",
       "      <td>19950</td>\n",
       "      <td>263.0000</td>\n",
       "      <td>C23 C25 C27</td>\n",
       "      <td>S</td>\n",
       "    </tr>\n",
       "    <tr>\n",
       "      <th>373</th>\n",
       "      <td>374</td>\n",
       "      <td>0</td>\n",
       "      <td>1</td>\n",
       "      <td>Ringhini, Mr. Sante</td>\n",
       "      <td>male</td>\n",
       "      <td>22.00</td>\n",
       "      <td>0</td>\n",
       "      <td>0</td>\n",
       "      <td>PC 17760</td>\n",
       "      <td>135.6333</td>\n",
       "      <td>NaN</td>\n",
       "      <td>C</td>\n",
       "    </tr>\n",
       "    <tr>\n",
       "      <th>377</th>\n",
       "      <td>378</td>\n",
       "      <td>0</td>\n",
       "      <td>1</td>\n",
       "      <td>Widener, Mr. Harry Elkins</td>\n",
       "      <td>male</td>\n",
       "      <td>27.00</td>\n",
       "      <td>0</td>\n",
       "      <td>2</td>\n",
       "      <td>113503</td>\n",
       "      <td>211.5000</td>\n",
       "      <td>C82</td>\n",
       "      <td>C</td>\n",
       "    </tr>\n",
       "    <tr>\n",
       "      <th>380</th>\n",
       "      <td>381</td>\n",
       "      <td>1</td>\n",
       "      <td>1</td>\n",
       "      <td>Bidois, Miss. Rosalie</td>\n",
       "      <td>female</td>\n",
       "      <td>42.00</td>\n",
       "      <td>0</td>\n",
       "      <td>0</td>\n",
       "      <td>PC 17757</td>\n",
       "      <td>227.5250</td>\n",
       "      <td>NaN</td>\n",
       "      <td>C</td>\n",
       "    </tr>\n",
       "    <tr>\n",
       "      <th>390</th>\n",
       "      <td>391</td>\n",
       "      <td>1</td>\n",
       "      <td>1</td>\n",
       "      <td>Carter, Mr. William Ernest</td>\n",
       "      <td>male</td>\n",
       "      <td>36.00</td>\n",
       "      <td>1</td>\n",
       "      <td>2</td>\n",
       "      <td>113760</td>\n",
       "      <td>120.0000</td>\n",
       "      <td>B96 B98</td>\n",
       "      <td>S</td>\n",
       "    </tr>\n",
       "    <tr>\n",
       "      <th>393</th>\n",
       "      <td>394</td>\n",
       "      <td>1</td>\n",
       "      <td>1</td>\n",
       "      <td>Newell, Miss. Marjorie</td>\n",
       "      <td>female</td>\n",
       "      <td>23.00</td>\n",
       "      <td>1</td>\n",
       "      <td>0</td>\n",
       "      <td>35273</td>\n",
       "      <td>113.2750</td>\n",
       "      <td>D36</td>\n",
       "      <td>C</td>\n",
       "    </tr>\n",
       "    <tr>\n",
       "      <th>435</th>\n",
       "      <td>436</td>\n",
       "      <td>1</td>\n",
       "      <td>1</td>\n",
       "      <td>Carter, Miss. Lucile Polk</td>\n",
       "      <td>female</td>\n",
       "      <td>14.00</td>\n",
       "      <td>1</td>\n",
       "      <td>2</td>\n",
       "      <td>113760</td>\n",
       "      <td>120.0000</td>\n",
       "      <td>B96 B98</td>\n",
       "      <td>S</td>\n",
       "    </tr>\n",
       "    <tr>\n",
       "      <th>438</th>\n",
       "      <td>439</td>\n",
       "      <td>0</td>\n",
       "      <td>1</td>\n",
       "      <td>Fortune, Mr. Mark</td>\n",
       "      <td>male</td>\n",
       "      <td>64.00</td>\n",
       "      <td>1</td>\n",
       "      <td>4</td>\n",
       "      <td>19950</td>\n",
       "      <td>263.0000</td>\n",
       "      <td>C23 C25 C27</td>\n",
       "      <td>S</td>\n",
       "    </tr>\n",
       "    <tr>\n",
       "      <th>498</th>\n",
       "      <td>499</td>\n",
       "      <td>0</td>\n",
       "      <td>1</td>\n",
       "      <td>Allison, Mrs. Hudson J C (Bessie Waldo Daniels)</td>\n",
       "      <td>female</td>\n",
       "      <td>25.00</td>\n",
       "      <td>1</td>\n",
       "      <td>2</td>\n",
       "      <td>113781</td>\n",
       "      <td>151.5500</td>\n",
       "      <td>C22 C26</td>\n",
       "      <td>S</td>\n",
       "    </tr>\n",
       "    <tr>\n",
       "      <th>527</th>\n",
       "      <td>528</td>\n",
       "      <td>0</td>\n",
       "      <td>1</td>\n",
       "      <td>Farthing, Mr. John</td>\n",
       "      <td>male</td>\n",
       "      <td>NaN</td>\n",
       "      <td>0</td>\n",
       "      <td>0</td>\n",
       "      <td>PC 17483</td>\n",
       "      <td>221.7792</td>\n",
       "      <td>C95</td>\n",
       "      <td>S</td>\n",
       "    </tr>\n",
       "    <tr>\n",
       "      <th>557</th>\n",
       "      <td>558</td>\n",
       "      <td>0</td>\n",
       "      <td>1</td>\n",
       "      <td>Robbins, Mr. Victor</td>\n",
       "      <td>male</td>\n",
       "      <td>NaN</td>\n",
       "      <td>0</td>\n",
       "      <td>0</td>\n",
       "      <td>PC 17757</td>\n",
       "      <td>227.5250</td>\n",
       "      <td>NaN</td>\n",
       "      <td>C</td>\n",
       "    </tr>\n",
       "    <tr>\n",
       "      <th>609</th>\n",
       "      <td>610</td>\n",
       "      <td>1</td>\n",
       "      <td>1</td>\n",
       "      <td>Shutes, Miss. Elizabeth W</td>\n",
       "      <td>female</td>\n",
       "      <td>40.00</td>\n",
       "      <td>0</td>\n",
       "      <td>0</td>\n",
       "      <td>PC 17582</td>\n",
       "      <td>153.4625</td>\n",
       "      <td>C125</td>\n",
       "      <td>S</td>\n",
       "    </tr>\n",
       "    <tr>\n",
       "      <th>659</th>\n",
       "      <td>660</td>\n",
       "      <td>0</td>\n",
       "      <td>1</td>\n",
       "      <td>Newell, Mr. Arthur Webster</td>\n",
       "      <td>male</td>\n",
       "      <td>58.00</td>\n",
       "      <td>0</td>\n",
       "      <td>2</td>\n",
       "      <td>35273</td>\n",
       "      <td>113.2750</td>\n",
       "      <td>D48</td>\n",
       "      <td>C</td>\n",
       "    </tr>\n",
       "    <tr>\n",
       "      <th>660</th>\n",
       "      <td>661</td>\n",
       "      <td>1</td>\n",
       "      <td>1</td>\n",
       "      <td>Frauenthal, Dr. Henry William</td>\n",
       "      <td>male</td>\n",
       "      <td>50.00</td>\n",
       "      <td>2</td>\n",
       "      <td>0</td>\n",
       "      <td>PC 17611</td>\n",
       "      <td>133.6500</td>\n",
       "      <td>NaN</td>\n",
       "      <td>S</td>\n",
       "    </tr>\n",
       "    <tr>\n",
       "      <th>679</th>\n",
       "      <td>680</td>\n",
       "      <td>1</td>\n",
       "      <td>1</td>\n",
       "      <td>Cardeza, Mr. Thomas Drake Martinez</td>\n",
       "      <td>male</td>\n",
       "      <td>36.00</td>\n",
       "      <td>0</td>\n",
       "      <td>1</td>\n",
       "      <td>PC 17755</td>\n",
       "      <td>512.3292</td>\n",
       "      <td>B51 B53 B55</td>\n",
       "      <td>C</td>\n",
       "    </tr>\n",
       "    <tr>\n",
       "      <th>689</th>\n",
       "      <td>690</td>\n",
       "      <td>1</td>\n",
       "      <td>1</td>\n",
       "      <td>Madill, Miss. Georgette Alexandra</td>\n",
       "      <td>female</td>\n",
       "      <td>15.00</td>\n",
       "      <td>0</td>\n",
       "      <td>1</td>\n",
       "      <td>24160</td>\n",
       "      <td>211.3375</td>\n",
       "      <td>B5</td>\n",
       "      <td>S</td>\n",
       "    </tr>\n",
       "    <tr>\n",
       "      <th>700</th>\n",
       "      <td>701</td>\n",
       "      <td>1</td>\n",
       "      <td>1</td>\n",
       "      <td>Astor, Mrs. John Jacob (Madeleine Talmadge Force)</td>\n",
       "      <td>female</td>\n",
       "      <td>18.00</td>\n",
       "      <td>1</td>\n",
       "      <td>0</td>\n",
       "      <td>PC 17757</td>\n",
       "      <td>227.5250</td>\n",
       "      <td>C62 C64</td>\n",
       "      <td>C</td>\n",
       "    </tr>\n",
       "    <tr>\n",
       "      <th>708</th>\n",
       "      <td>709</td>\n",
       "      <td>1</td>\n",
       "      <td>1</td>\n",
       "      <td>Cleaver, Miss. Alice</td>\n",
       "      <td>female</td>\n",
       "      <td>22.00</td>\n",
       "      <td>0</td>\n",
       "      <td>0</td>\n",
       "      <td>113781</td>\n",
       "      <td>151.5500</td>\n",
       "      <td>NaN</td>\n",
       "      <td>S</td>\n",
       "    </tr>\n",
       "    <tr>\n",
       "      <th>716</th>\n",
       "      <td>717</td>\n",
       "      <td>1</td>\n",
       "      <td>1</td>\n",
       "      <td>Endres, Miss. Caroline Louise</td>\n",
       "      <td>female</td>\n",
       "      <td>38.00</td>\n",
       "      <td>0</td>\n",
       "      <td>0</td>\n",
       "      <td>PC 17757</td>\n",
       "      <td>227.5250</td>\n",
       "      <td>C45</td>\n",
       "      <td>C</td>\n",
       "    </tr>\n",
       "    <tr>\n",
       "      <th>730</th>\n",
       "      <td>731</td>\n",
       "      <td>1</td>\n",
       "      <td>1</td>\n",
       "      <td>Allen, Miss. Elisabeth Walton</td>\n",
       "      <td>female</td>\n",
       "      <td>29.00</td>\n",
       "      <td>0</td>\n",
       "      <td>0</td>\n",
       "      <td>24160</td>\n",
       "      <td>211.3375</td>\n",
       "      <td>B5</td>\n",
       "      <td>S</td>\n",
       "    </tr>\n",
       "    <tr>\n",
       "      <th>737</th>\n",
       "      <td>738</td>\n",
       "      <td>1</td>\n",
       "      <td>1</td>\n",
       "      <td>Lesurer, Mr. Gustave J</td>\n",
       "      <td>male</td>\n",
       "      <td>35.00</td>\n",
       "      <td>0</td>\n",
       "      <td>0</td>\n",
       "      <td>PC 17755</td>\n",
       "      <td>512.3292</td>\n",
       "      <td>B101</td>\n",
       "      <td>C</td>\n",
       "    </tr>\n",
       "    <tr>\n",
       "      <th>742</th>\n",
       "      <td>743</td>\n",
       "      <td>1</td>\n",
       "      <td>1</td>\n",
       "      <td>Ryerson, Miss. Susan Parker \"Suzette\"</td>\n",
       "      <td>female</td>\n",
       "      <td>21.00</td>\n",
       "      <td>2</td>\n",
       "      <td>2</td>\n",
       "      <td>PC 17608</td>\n",
       "      <td>262.3750</td>\n",
       "      <td>B57 B59 B63 B66</td>\n",
       "      <td>C</td>\n",
       "    </tr>\n",
       "    <tr>\n",
       "      <th>763</th>\n",
       "      <td>764</td>\n",
       "      <td>1</td>\n",
       "      <td>1</td>\n",
       "      <td>Carter, Mrs. William Ernest (Lucile Polk)</td>\n",
       "      <td>female</td>\n",
       "      <td>36.00</td>\n",
       "      <td>1</td>\n",
       "      <td>2</td>\n",
       "      <td>113760</td>\n",
       "      <td>120.0000</td>\n",
       "      <td>B96 B98</td>\n",
       "      <td>S</td>\n",
       "    </tr>\n",
       "    <tr>\n",
       "      <th>779</th>\n",
       "      <td>780</td>\n",
       "      <td>1</td>\n",
       "      <td>1</td>\n",
       "      <td>Robert, Mrs. Edward Scott (Elisabeth Walton Mc...</td>\n",
       "      <td>female</td>\n",
       "      <td>43.00</td>\n",
       "      <td>0</td>\n",
       "      <td>1</td>\n",
       "      <td>24160</td>\n",
       "      <td>211.3375</td>\n",
       "      <td>B3</td>\n",
       "      <td>S</td>\n",
       "    </tr>\n",
       "    <tr>\n",
       "      <th>802</th>\n",
       "      <td>803</td>\n",
       "      <td>1</td>\n",
       "      <td>1</td>\n",
       "      <td>Carter, Master. William Thornton II</td>\n",
       "      <td>male</td>\n",
       "      <td>11.00</td>\n",
       "      <td>1</td>\n",
       "      <td>2</td>\n",
       "      <td>113760</td>\n",
       "      <td>120.0000</td>\n",
       "      <td>B96 B98</td>\n",
       "      <td>S</td>\n",
       "    </tr>\n",
       "    <tr>\n",
       "      <th>856</th>\n",
       "      <td>857</td>\n",
       "      <td>1</td>\n",
       "      <td>1</td>\n",
       "      <td>Wick, Mrs. George Dennick (Mary Hitchcock)</td>\n",
       "      <td>female</td>\n",
       "      <td>45.00</td>\n",
       "      <td>1</td>\n",
       "      <td>1</td>\n",
       "      <td>36928</td>\n",
       "      <td>164.8667</td>\n",
       "      <td>NaN</td>\n",
       "      <td>S</td>\n",
       "    </tr>\n",
       "  </tbody>\n",
       "</table>\n",
       "</div>"
      ],
      "text/plain": [
       "     PassengerId  Survived  Pclass  \\\n",
       "27            28         0       1   \n",
       "31            32         1       1   \n",
       "88            89         1       1   \n",
       "118          119         0       1   \n",
       "195          196         1       1   \n",
       "215          216         1       1   \n",
       "258          259         1       1   \n",
       "268          269         1       1   \n",
       "269          270         1       1   \n",
       "297          298         0       1   \n",
       "299          300         1       1   \n",
       "305          306         1       1   \n",
       "311          312         1       1   \n",
       "318          319         1       1   \n",
       "319          320         1       1   \n",
       "325          326         1       1   \n",
       "332          333         0       1   \n",
       "334          335         1       1   \n",
       "337          338         1       1   \n",
       "341          342         1       1   \n",
       "373          374         0       1   \n",
       "377          378         0       1   \n",
       "380          381         1       1   \n",
       "390          391         1       1   \n",
       "393          394         1       1   \n",
       "435          436         1       1   \n",
       "438          439         0       1   \n",
       "498          499         0       1   \n",
       "527          528         0       1   \n",
       "557          558         0       1   \n",
       "609          610         1       1   \n",
       "659          660         0       1   \n",
       "660          661         1       1   \n",
       "679          680         1       1   \n",
       "689          690         1       1   \n",
       "700          701         1       1   \n",
       "708          709         1       1   \n",
       "716          717         1       1   \n",
       "730          731         1       1   \n",
       "737          738         1       1   \n",
       "742          743         1       1   \n",
       "763          764         1       1   \n",
       "779          780         1       1   \n",
       "802          803         1       1   \n",
       "856          857         1       1   \n",
       "\n",
       "                                                  Name     Sex    Age  SibSp  \\\n",
       "27                      Fortune, Mr. Charles Alexander    male  19.00      3   \n",
       "31      Spencer, Mrs. William Augustus (Marie Eugenie)  female    NaN      1   \n",
       "88                          Fortune, Miss. Mabel Helen  female  23.00      3   \n",
       "118                           Baxter, Mr. Quigg Edmond    male  24.00      0   \n",
       "195                               Lurette, Miss. Elise  female  58.00      0   \n",
       "215                            Newell, Miss. Madeleine  female  31.00      1   \n",
       "258                                   Ward, Miss. Anna  female  35.00      0   \n",
       "268      Graham, Mrs. William Thompson (Edith Junkins)  female  58.00      0   \n",
       "269                             Bissette, Miss. Amelia  female  35.00      0   \n",
       "297                       Allison, Miss. Helen Loraine  female   2.00      1   \n",
       "299    Baxter, Mrs. James (Helene DeLaudeniere Chaput)  female  50.00      0   \n",
       "305                     Allison, Master. Hudson Trevor    male   0.92      1   \n",
       "311                         Ryerson, Miss. Emily Borie  female  18.00      2   \n",
       "318                           Wick, Miss. Mary Natalie  female  31.00      0   \n",
       "319  Spedden, Mrs. Frederic Oakley (Margaretta Corn...  female  40.00      1   \n",
       "325                           Young, Miss. Marie Grice  female  36.00      0   \n",
       "332                          Graham, Mr. George Edward    male  38.00      0   \n",
       "334  Frauenthal, Mrs. Henry William (Clara Heinshei...  female    NaN      1   \n",
       "337                    Burns, Miss. Elizabeth Margaret  female  41.00      0   \n",
       "341                     Fortune, Miss. Alice Elizabeth  female  24.00      3   \n",
       "373                                Ringhini, Mr. Sante    male  22.00      0   \n",
       "377                          Widener, Mr. Harry Elkins    male  27.00      0   \n",
       "380                              Bidois, Miss. Rosalie  female  42.00      0   \n",
       "390                         Carter, Mr. William Ernest    male  36.00      1   \n",
       "393                             Newell, Miss. Marjorie  female  23.00      1   \n",
       "435                          Carter, Miss. Lucile Polk  female  14.00      1   \n",
       "438                                  Fortune, Mr. Mark    male  64.00      1   \n",
       "498    Allison, Mrs. Hudson J C (Bessie Waldo Daniels)  female  25.00      1   \n",
       "527                                 Farthing, Mr. John    male    NaN      0   \n",
       "557                                Robbins, Mr. Victor    male    NaN      0   \n",
       "609                          Shutes, Miss. Elizabeth W  female  40.00      0   \n",
       "659                         Newell, Mr. Arthur Webster    male  58.00      0   \n",
       "660                      Frauenthal, Dr. Henry William    male  50.00      2   \n",
       "679                 Cardeza, Mr. Thomas Drake Martinez    male  36.00      0   \n",
       "689                  Madill, Miss. Georgette Alexandra  female  15.00      0   \n",
       "700  Astor, Mrs. John Jacob (Madeleine Talmadge Force)  female  18.00      1   \n",
       "708                               Cleaver, Miss. Alice  female  22.00      0   \n",
       "716                      Endres, Miss. Caroline Louise  female  38.00      0   \n",
       "730                      Allen, Miss. Elisabeth Walton  female  29.00      0   \n",
       "737                             Lesurer, Mr. Gustave J    male  35.00      0   \n",
       "742              Ryerson, Miss. Susan Parker \"Suzette\"  female  21.00      2   \n",
       "763          Carter, Mrs. William Ernest (Lucile Polk)  female  36.00      1   \n",
       "779  Robert, Mrs. Edward Scott (Elisabeth Walton Mc...  female  43.00      0   \n",
       "802                Carter, Master. William Thornton II    male  11.00      1   \n",
       "856         Wick, Mrs. George Dennick (Mary Hitchcock)  female  45.00      1   \n",
       "\n",
       "     Parch    Ticket      Fare            Cabin Embarked  \n",
       "27       2     19950  263.0000      C23 C25 C27        S  \n",
       "31       0  PC 17569  146.5208              B78        C  \n",
       "88       2     19950  263.0000      C23 C25 C27        S  \n",
       "118      1  PC 17558  247.5208          B58 B60        C  \n",
       "195      0  PC 17569  146.5208              B80        C  \n",
       "215      0     35273  113.2750              D36        C  \n",
       "258      0  PC 17755  512.3292              NaN        C  \n",
       "268      1  PC 17582  153.4625             C125        S  \n",
       "269      0  PC 17760  135.6333              C99        S  \n",
       "297      2    113781  151.5500          C22 C26        S  \n",
       "299      1  PC 17558  247.5208          B58 B60        C  \n",
       "305      2    113781  151.5500          C22 C26        S  \n",
       "311      2  PC 17608  262.3750  B57 B59 B63 B66        C  \n",
       "318      2     36928  164.8667               C7        S  \n",
       "319      1     16966  134.5000              E34        C  \n",
       "325      0  PC 17760  135.6333              C32        C  \n",
       "332      1  PC 17582  153.4625              C91        S  \n",
       "334      0  PC 17611  133.6500              NaN        S  \n",
       "337      0     16966  134.5000              E40        C  \n",
       "341      2     19950  263.0000      C23 C25 C27        S  \n",
       "373      0  PC 17760  135.6333              NaN        C  \n",
       "377      2    113503  211.5000              C82        C  \n",
       "380      0  PC 17757  227.5250              NaN        C  \n",
       "390      2    113760  120.0000          B96 B98        S  \n",
       "393      0     35273  113.2750              D36        C  \n",
       "435      2    113760  120.0000          B96 B98        S  \n",
       "438      4     19950  263.0000      C23 C25 C27        S  \n",
       "498      2    113781  151.5500          C22 C26        S  \n",
       "527      0  PC 17483  221.7792              C95        S  \n",
       "557      0  PC 17757  227.5250              NaN        C  \n",
       "609      0  PC 17582  153.4625             C125        S  \n",
       "659      2     35273  113.2750              D48        C  \n",
       "660      0  PC 17611  133.6500              NaN        S  \n",
       "679      1  PC 17755  512.3292      B51 B53 B55        C  \n",
       "689      1     24160  211.3375               B5        S  \n",
       "700      0  PC 17757  227.5250          C62 C64        C  \n",
       "708      0    113781  151.5500              NaN        S  \n",
       "716      0  PC 17757  227.5250              C45        C  \n",
       "730      0     24160  211.3375               B5        S  \n",
       "737      0  PC 17755  512.3292             B101        C  \n",
       "742      2  PC 17608  262.3750  B57 B59 B63 B66        C  \n",
       "763      2    113760  120.0000          B96 B98        S  \n",
       "779      1     24160  211.3375               B3        S  \n",
       "802      2    113760  120.0000          B96 B98        S  \n",
       "856      1     36928  164.8667              NaN        S  "
      ]
     },
     "execution_count": 12,
     "metadata": {},
     "output_type": "execute_result"
    }
   ],
   "source": [
    "#Lets have a look specifically at the higher paying passengers\n",
    "df[df.Fare > df.Fare.quantile(.95)]"
   ]
  },
  {
   "cell_type": "markdown",
   "id": "706d34e3",
   "metadata": {
    "papermill": {
     "duration": 0.016799,
     "end_time": "2023-02-20T23:34:54.547795",
     "exception": false,
     "start_time": "2023-02-20T23:34:54.530996",
     "status": "completed"
    },
    "tags": []
   },
   "source": [
    "There appear to be multiple people in the same cabins paying the same fare."
   ]
  },
  {
   "cell_type": "code",
   "execution_count": 13,
   "id": "45dc22ef",
   "metadata": {
    "execution": {
     "iopub.execute_input": "2023-02-20T23:34:54.584519Z",
     "iopub.status.busy": "2023-02-20T23:34:54.584119Z",
     "iopub.status.idle": "2023-02-20T23:34:54.602199Z",
     "shell.execute_reply": "2023-02-20T23:34:54.600887Z"
    },
    "papermill": {
     "duration": 0.039196,
     "end_time": "2023-02-20T23:34:54.604586",
     "exception": false,
     "start_time": "2023-02-20T23:34:54.565390",
     "status": "completed"
    },
    "tags": []
   },
   "outputs": [
    {
     "data": {
      "text/html": [
       "<div>\n",
       "<style scoped>\n",
       "    .dataframe tbody tr th:only-of-type {\n",
       "        vertical-align: middle;\n",
       "    }\n",
       "\n",
       "    .dataframe tbody tr th {\n",
       "        vertical-align: top;\n",
       "    }\n",
       "\n",
       "    .dataframe thead th {\n",
       "        text-align: right;\n",
       "    }\n",
       "</style>\n",
       "<table border=\"1\" class=\"dataframe\">\n",
       "  <thead>\n",
       "    <tr style=\"text-align: right;\">\n",
       "      <th></th>\n",
       "      <th>PassengerId</th>\n",
       "      <th>Survived</th>\n",
       "      <th>Pclass</th>\n",
       "      <th>Name</th>\n",
       "      <th>Sex</th>\n",
       "      <th>Age</th>\n",
       "      <th>SibSp</th>\n",
       "      <th>Parch</th>\n",
       "      <th>Ticket</th>\n",
       "      <th>Fare</th>\n",
       "      <th>Cabin</th>\n",
       "      <th>Embarked</th>\n",
       "    </tr>\n",
       "  </thead>\n",
       "  <tbody>\n",
       "    <tr>\n",
       "      <th>258</th>\n",
       "      <td>259</td>\n",
       "      <td>1</td>\n",
       "      <td>1</td>\n",
       "      <td>Ward, Miss. Anna</td>\n",
       "      <td>female</td>\n",
       "      <td>35.0</td>\n",
       "      <td>0</td>\n",
       "      <td>0</td>\n",
       "      <td>PC 17755</td>\n",
       "      <td>512.3292</td>\n",
       "      <td>NaN</td>\n",
       "      <td>C</td>\n",
       "    </tr>\n",
       "    <tr>\n",
       "      <th>679</th>\n",
       "      <td>680</td>\n",
       "      <td>1</td>\n",
       "      <td>1</td>\n",
       "      <td>Cardeza, Mr. Thomas Drake Martinez</td>\n",
       "      <td>male</td>\n",
       "      <td>36.0</td>\n",
       "      <td>0</td>\n",
       "      <td>1</td>\n",
       "      <td>PC 17755</td>\n",
       "      <td>512.3292</td>\n",
       "      <td>B51 B53 B55</td>\n",
       "      <td>C</td>\n",
       "    </tr>\n",
       "    <tr>\n",
       "      <th>737</th>\n",
       "      <td>738</td>\n",
       "      <td>1</td>\n",
       "      <td>1</td>\n",
       "      <td>Lesurer, Mr. Gustave J</td>\n",
       "      <td>male</td>\n",
       "      <td>35.0</td>\n",
       "      <td>0</td>\n",
       "      <td>0</td>\n",
       "      <td>PC 17755</td>\n",
       "      <td>512.3292</td>\n",
       "      <td>B101</td>\n",
       "      <td>C</td>\n",
       "    </tr>\n",
       "  </tbody>\n",
       "</table>\n",
       "</div>"
      ],
      "text/plain": [
       "     PassengerId  Survived  Pclass                                Name  \\\n",
       "258          259         1       1                    Ward, Miss. Anna   \n",
       "679          680         1       1  Cardeza, Mr. Thomas Drake Martinez   \n",
       "737          738         1       1              Lesurer, Mr. Gustave J   \n",
       "\n",
       "        Sex   Age  SibSp  Parch    Ticket      Fare        Cabin Embarked  \n",
       "258  female  35.0      0      0  PC 17755  512.3292          NaN        C  \n",
       "679    male  36.0      0      1  PC 17755  512.3292  B51 B53 B55        C  \n",
       "737    male  35.0      0      0  PC 17755  512.3292         B101        C  "
      ]
     },
     "execution_count": 13,
     "metadata": {},
     "output_type": "execute_result"
    }
   ],
   "source": [
    "#The max fare as found earlier was 512.3292, how many paid this fare?\n",
    "df[df.Fare == 512.3292]"
   ]
  },
  {
   "cell_type": "code",
   "execution_count": 14,
   "id": "5348c794",
   "metadata": {
    "execution": {
     "iopub.execute_input": "2023-02-20T23:34:54.639990Z",
     "iopub.status.busy": "2023-02-20T23:34:54.639554Z",
     "iopub.status.idle": "2023-02-20T23:34:54.655790Z",
     "shell.execute_reply": "2023-02-20T23:34:54.654651Z"
    },
    "papermill": {
     "duration": 0.036612,
     "end_time": "2023-02-20T23:34:54.658223",
     "exception": false,
     "start_time": "2023-02-20T23:34:54.621611",
     "status": "completed"
    },
    "tags": []
   },
   "outputs": [
    {
     "data": {
      "text/html": [
       "<div>\n",
       "<style scoped>\n",
       "    .dataframe tbody tr th:only-of-type {\n",
       "        vertical-align: middle;\n",
       "    }\n",
       "\n",
       "    .dataframe tbody tr th {\n",
       "        vertical-align: top;\n",
       "    }\n",
       "\n",
       "    .dataframe thead th {\n",
       "        text-align: right;\n",
       "    }\n",
       "</style>\n",
       "<table border=\"1\" class=\"dataframe\">\n",
       "  <thead>\n",
       "    <tr style=\"text-align: right;\">\n",
       "      <th></th>\n",
       "      <th>PassengerId</th>\n",
       "      <th>Survived</th>\n",
       "      <th>Pclass</th>\n",
       "      <th>Name</th>\n",
       "      <th>Sex</th>\n",
       "      <th>Age</th>\n",
       "      <th>SibSp</th>\n",
       "      <th>Parch</th>\n",
       "      <th>Ticket</th>\n",
       "      <th>Fare</th>\n",
       "      <th>Cabin</th>\n",
       "      <th>Embarked</th>\n",
       "    </tr>\n",
       "  </thead>\n",
       "  <tbody>\n",
       "    <tr>\n",
       "      <th>31</th>\n",
       "      <td>32</td>\n",
       "      <td>1</td>\n",
       "      <td>1</td>\n",
       "      <td>Spencer, Mrs. William Augustus (Marie Eugenie)</td>\n",
       "      <td>female</td>\n",
       "      <td>NaN</td>\n",
       "      <td>1</td>\n",
       "      <td>0</td>\n",
       "      <td>PC 17569</td>\n",
       "      <td>146.5208</td>\n",
       "      <td>B78</td>\n",
       "      <td>C</td>\n",
       "    </tr>\n",
       "    <tr>\n",
       "      <th>195</th>\n",
       "      <td>196</td>\n",
       "      <td>1</td>\n",
       "      <td>1</td>\n",
       "      <td>Lurette, Miss. Elise</td>\n",
       "      <td>female</td>\n",
       "      <td>58.0</td>\n",
       "      <td>0</td>\n",
       "      <td>0</td>\n",
       "      <td>PC 17569</td>\n",
       "      <td>146.5208</td>\n",
       "      <td>B80</td>\n",
       "      <td>C</td>\n",
       "    </tr>\n",
       "  </tbody>\n",
       "</table>\n",
       "</div>"
      ],
      "text/plain": [
       "     PassengerId  Survived  Pclass  \\\n",
       "31            32         1       1   \n",
       "195          196         1       1   \n",
       "\n",
       "                                               Name     Sex   Age  SibSp  \\\n",
       "31   Spencer, Mrs. William Augustus (Marie Eugenie)  female   NaN      1   \n",
       "195                            Lurette, Miss. Elise  female  58.0      0   \n",
       "\n",
       "     Parch    Ticket      Fare Cabin Embarked  \n",
       "31       0  PC 17569  146.5208   B78        C  \n",
       "195      0  PC 17569  146.5208   B80        C  "
      ]
     },
     "execution_count": 14,
     "metadata": {},
     "output_type": "execute_result"
    }
   ],
   "source": [
    "#It appears as though multiple passengers on the same ticket are listed as paying the same fare. Lets check.\n",
    "df[df.Ticket == 'PC 17569']"
   ]
  },
  {
   "cell_type": "markdown",
   "id": "7d4ad87b",
   "metadata": {
    "papermill": {
     "duration": 0.017063,
     "end_time": "2023-02-20T23:34:54.693149",
     "exception": false,
     "start_time": "2023-02-20T23:34:54.676086",
     "status": "completed"
    },
    "tags": []
   },
   "source": [
    "The fare paid is not an anomoly but is not 'per person' One family will have each member listed and fare shows price paid for the family."
   ]
  },
  {
   "cell_type": "code",
   "execution_count": 15,
   "id": "f56667ac",
   "metadata": {
    "execution": {
     "iopub.execute_input": "2023-02-20T23:34:54.729984Z",
     "iopub.status.busy": "2023-02-20T23:34:54.729590Z",
     "iopub.status.idle": "2023-02-20T23:34:55.050936Z",
     "shell.execute_reply": "2023-02-20T23:34:55.049845Z"
    },
    "papermill": {
     "duration": 0.342156,
     "end_time": "2023-02-20T23:34:55.053375",
     "exception": false,
     "start_time": "2023-02-20T23:34:54.711219",
     "status": "completed"
    },
    "tags": []
   },
   "outputs": [
    {
     "data": {
      "text/plain": [
       "<AxesSubplot:>"
      ]
     },
     "execution_count": 15,
     "metadata": {},
     "output_type": "execute_result"
    },
    {
     "data": {
      "image/png": "[encoded data removed]",
      "text/plain": [
       "<Figure size 432x288 with 2 Axes>"
      ]
     },
     "metadata": {
      "needs_background": "light"
     },
     "output_type": "display_data"
    }
   ],
   "source": [
    "sns.heatmap(df[['Survived', 'SibSp', 'Parch', 'Age', 'Fare']].corr(), annot = True, fmt = '.2f', cmap = 'coolwarm')"
   ]
  },
  {
   "cell_type": "markdown",
   "id": "81f38306",
   "metadata": {
    "papermill": {
     "duration": 0.017003,
     "end_time": "2023-02-20T23:34:55.088057",
     "exception": false,
     "start_time": "2023-02-20T23:34:55.071054",
     "status": "completed"
    },
    "tags": []
   },
   "source": [
    "The fare has a higher correlation with the survivability and with the Parental indicator which indicates again that families paid for a ticket together and that higher paying passengers were more likely to survive."
   ]
  },
  {
   "cell_type": "code",
   "execution_count": 16,
   "id": "0dee1b62",
   "metadata": {
    "execution": {
     "iopub.execute_input": "2023-02-20T23:34:55.126808Z",
     "iopub.status.busy": "2023-02-20T23:34:55.126387Z",
     "iopub.status.idle": "2023-02-20T23:34:55.602168Z",
     "shell.execute_reply": "2023-02-20T23:34:55.601033Z"
    },
    "papermill": {
     "duration": 0.497666,
     "end_time": "2023-02-20T23:34:55.604795",
     "exception": false,
     "start_time": "2023-02-20T23:34:55.107129",
     "status": "completed"
    },
    "tags": []
   },
   "outputs": [
    {
     "data": {
      "text/plain": [
       "<seaborn.axisgrid.FacetGrid at 0x7f01e92cbf50>"
      ]
     },
     "execution_count": 16,
     "metadata": {},
     "output_type": "execute_result"
    },
    {
     "data": {
      "image/png": "[encoded data removed]",
      "text/plain": [
       "<Figure size 402.375x360 with 1 Axes>"
      ]
     },
     "metadata": {
      "needs_background": "light"
     },
     "output_type": "display_data"
    }
   ],
   "source": [
    "sns.displot(data = df, x = 'Age', hue = 'Pclass',kind='kde',palette='bright')"
   ]
  },
  {
   "cell_type": "code",
   "execution_count": 17,
   "id": "77ff0d9d",
   "metadata": {
    "execution": {
     "iopub.execute_input": "2023-02-20T23:34:55.643980Z",
     "iopub.status.busy": "2023-02-20T23:34:55.643573Z",
     "iopub.status.idle": "2023-02-20T23:34:56.097992Z",
     "shell.execute_reply": "2023-02-20T23:34:56.096874Z"
    },
    "papermill": {
     "duration": 0.476745,
     "end_time": "2023-02-20T23:34:56.100801",
     "exception": false,
     "start_time": "2023-02-20T23:34:55.624056",
     "status": "completed"
    },
    "tags": []
   },
   "outputs": [
    {
     "data": {
      "text/plain": [
       "<seaborn.axisgrid.FacetGrid at 0x7f01e11abd90>"
      ]
     },
     "execution_count": 17,
     "metadata": {},
     "output_type": "execute_result"
    },
    {
     "data": {
      "image/png": "[encoded data removed]",
      "text/plain": [
       "<Figure size 430.5x360 with 1 Axes>"
      ]
     },
     "metadata": {
      "needs_background": "light"
     },
     "output_type": "display_data"
    }
   ],
   "source": [
    "sns.displot(data = df, x = 'Age', hue = 'Sex',kind='kde',palette='bright')"
   ]
  },
  {
   "cell_type": "code",
   "execution_count": 18,
   "id": "55a36c6d",
   "metadata": {
    "execution": {
     "iopub.execute_input": "2023-02-20T23:34:56.141011Z",
     "iopub.status.busy": "2023-02-20T23:34:56.140348Z",
     "iopub.status.idle": "2023-02-20T23:34:56.480262Z",
     "shell.execute_reply": "2023-02-20T23:34:56.479167Z"
    },
    "papermill": {
     "duration": 0.362751,
     "end_time": "2023-02-20T23:34:56.482715",
     "exception": false,
     "start_time": "2023-02-20T23:34:56.119964",
     "status": "completed"
    },
    "tags": []
   },
   "outputs": [
    {
     "data": {
      "text/plain": [
       "<seaborn.axisgrid.FacetGrid at 0x7f01e9260dd0>"
      ]
     },
     "execution_count": 18,
     "metadata": {},
     "output_type": "execute_result"
    },
    {
     "data": {
      "image/png": "[encoded data removed]",
      "text/plain": [
       "<Figure size 430.5x360 with 1 Axes>"
      ]
     },
     "metadata": {
      "needs_background": "light"
     },
     "output_type": "display_data"
    }
   ],
   "source": [
    "sns.catplot(data = df, x='Pclass', hue='Sex', kind='count')"
   ]
  },
  {
   "cell_type": "markdown",
   "id": "50dde1ad",
   "metadata": {
    "papermill": {
     "duration": 0.019948,
     "end_time": "2023-02-20T23:34:56.521992",
     "exception": false,
     "start_time": "2023-02-20T23:34:56.502044",
     "status": "completed"
    },
    "tags": []
   },
   "source": [
    "There are more young adults in 3rd class and more males in 3rd class"
   ]
  },
  {
   "cell_type": "code",
   "execution_count": 19,
   "id": "c7fcee64",
   "metadata": {
    "execution": {
     "iopub.execute_input": "2023-02-20T23:34:56.561746Z",
     "iopub.status.busy": "2023-02-20T23:34:56.561331Z",
     "iopub.status.idle": "2023-02-20T23:34:56.886406Z",
     "shell.execute_reply": "2023-02-20T23:34:56.885234Z"
    },
    "papermill": {
     "duration": 0.348163,
     "end_time": "2023-02-20T23:34:56.888963",
     "exception": false,
     "start_time": "2023-02-20T23:34:56.540800",
     "status": "completed"
    },
    "tags": []
   },
   "outputs": [
    {
     "data": {
      "text/plain": [
       "<seaborn.axisgrid.FacetGrid at 0x7f01e10d5390>"
      ]
     },
     "execution_count": 19,
     "metadata": {},
     "output_type": "execute_result"
    },
    {
     "data": {
      "image/png": "[encoded data removed]",
      "text/plain": [
       "<Figure size 411.875x360 with 1 Axes>"
      ]
     },
     "metadata": {
      "needs_background": "light"
     },
     "output_type": "display_data"
    }
   ],
   "source": [
    "sns.catplot(data=df, x='Sex',kind='count', hue = 'Survived')"
   ]
  },
  {
   "cell_type": "code",
   "execution_count": 20,
   "id": "a1d98a20",
   "metadata": {
    "execution": {
     "iopub.execute_input": "2023-02-20T23:34:56.930406Z",
     "iopub.status.busy": "2023-02-20T23:34:56.930029Z",
     "iopub.status.idle": "2023-02-20T23:34:57.265802Z",
     "shell.execute_reply": "2023-02-20T23:34:57.265037Z"
    },
    "papermill": {
     "duration": 0.35877,
     "end_time": "2023-02-20T23:34:57.267955",
     "exception": false,
     "start_time": "2023-02-20T23:34:56.909185",
     "status": "completed"
    },
    "tags": []
   },
   "outputs": [
    {
     "data": {
      "text/plain": [
       "<seaborn.axisgrid.FacetGrid at 0x7f01e1091810>"
      ]
     },
     "execution_count": 20,
     "metadata": {},
     "output_type": "execute_result"
    },
    {
     "data": {
      "image/png": "[encoded data removed]",
      "text/plain": [
       "<Figure size 411.875x360 with 1 Axes>"
      ]
     },
     "metadata": {
      "needs_background": "light"
     },
     "output_type": "display_data"
    }
   ],
   "source": [
    "sns.catplot(data=df, x='Pclass', kind='count',hue='Survived')"
   ]
  },
  {
   "cell_type": "code",
   "execution_count": 21,
   "id": "676da219",
   "metadata": {
    "execution": {
     "iopub.execute_input": "2023-02-20T23:34:57.308931Z",
     "iopub.status.busy": "2023-02-20T23:34:57.308262Z",
     "iopub.status.idle": "2023-02-20T23:34:57.753789Z",
     "shell.execute_reply": "2023-02-20T23:34:57.752883Z"
    },
    "papermill": {
     "duration": 0.468605,
     "end_time": "2023-02-20T23:34:57.756012",
     "exception": false,
     "start_time": "2023-02-20T23:34:57.287407",
     "status": "completed"
    },
    "tags": []
   },
   "outputs": [
    {
     "data": {
      "text/plain": [
       "<seaborn.axisgrid.FacetGrid at 0x7f01e0ffc990>"
      ]
     },
     "execution_count": 21,
     "metadata": {},
     "output_type": "execute_result"
    },
    {
     "data": {
      "image/png": "[encoded data removed]",
      "text/plain": [
       "<Figure size 411.875x360 with 1 Axes>"
      ]
     },
     "metadata": {
      "needs_background": "light"
     },
     "output_type": "display_data"
    }
   ],
   "source": [
    "sns.displot(data=df, x='Age', kind='kde',hue='Survived')"
   ]
  },
  {
   "cell_type": "code",
   "execution_count": 22,
   "id": "a31c691b",
   "metadata": {
    "execution": {
     "iopub.execute_input": "2023-02-20T23:34:57.800841Z",
     "iopub.status.busy": "2023-02-20T23:34:57.800048Z",
     "iopub.status.idle": "2023-02-20T23:34:58.147968Z",
     "shell.execute_reply": "2023-02-20T23:34:58.146737Z"
    },
    "papermill": {
     "duration": 0.372818,
     "end_time": "2023-02-20T23:34:58.150278",
     "exception": false,
     "start_time": "2023-02-20T23:34:57.777460",
     "status": "completed"
    },
    "tags": []
   },
   "outputs": [
    {
     "data": {
      "text/plain": [
       "<seaborn.axisgrid.FacetGrid at 0x7f01e0ef23d0>"
      ]
     },
     "execution_count": 22,
     "metadata": {},
     "output_type": "execute_result"
    },
    {
     "data": {
      "image/png": "[encoded data removed]",
      "text/plain": [
       "<Figure size 411.875x360 with 1 Axes>"
      ]
     },
     "metadata": {
      "needs_background": "light"
     },
     "output_type": "display_data"
    }
   ],
   "source": [
    "sns.catplot(data=df, x='Embarked', kind='count',hue='Survived')"
   ]
  },
  {
   "cell_type": "code",
   "execution_count": 23,
   "id": "63bda2f6",
   "metadata": {
    "execution": {
     "iopub.execute_input": "2023-02-20T23:34:58.194298Z",
     "iopub.status.busy": "2023-02-20T23:34:58.193553Z",
     "iopub.status.idle": "2023-02-20T23:34:58.559730Z",
     "shell.execute_reply": "2023-02-20T23:34:58.558475Z"
    },
    "papermill": {
     "duration": 0.391138,
     "end_time": "2023-02-20T23:34:58.562016",
     "exception": false,
     "start_time": "2023-02-20T23:34:58.170878",
     "status": "completed"
    },
    "tags": []
   },
   "outputs": [
    {
     "data": {
      "text/plain": [
       "<seaborn.axisgrid.FacetGrid at 0x7f01e0f8ca10>"
      ]
     },
     "execution_count": 23,
     "metadata": {},
     "output_type": "execute_result"
    },
    {
     "data": {
      "image/png": "[encoded data removed]",
      "text/plain": [
       "<Figure size 411.875x360 with 1 Axes>"
      ]
     },
     "metadata": {
      "needs_background": "light"
     },
     "output_type": "display_data"
    }
   ],
   "source": [
    "sns.catplot(data=df, x='Parch', kind='count',hue='Survived')"
   ]
  },
  {
   "cell_type": "code",
   "execution_count": 24,
   "id": "f308146e",
   "metadata": {
    "execution": {
     "iopub.execute_input": "2023-02-20T23:34:58.607094Z",
     "iopub.status.busy": "2023-02-20T23:34:58.606671Z",
     "iopub.status.idle": "2023-02-20T23:34:59.032803Z",
     "shell.execute_reply": "2023-02-20T23:34:59.031977Z"
    },
    "papermill": {
     "duration": 0.451169,
     "end_time": "2023-02-20T23:34:59.035141",
     "exception": false,
     "start_time": "2023-02-20T23:34:58.583972",
     "status": "completed"
    },
    "tags": []
   },
   "outputs": [
    {
     "data": {
      "text/plain": [
       "<seaborn.axisgrid.FacetGrid at 0x7f01e0e2ae90>"
      ]
     },
     "execution_count": 24,
     "metadata": {},
     "output_type": "execute_result"
    },
    {
     "data": {
      "image/png": "[encoded data removed]",
      "text/plain": [
       "<Figure size 402.375x360 with 1 Axes>"
      ]
     },
     "metadata": {
      "needs_background": "light"
     },
     "output_type": "display_data"
    }
   ],
   "source": [
    "sns.catplot(data=df, x='Parch', kind='count',hue='Pclass')"
   ]
  },
  {
   "cell_type": "code",
   "execution_count": 25,
   "id": "b2ed7722",
   "metadata": {
    "execution": {
     "iopub.execute_input": "2023-02-20T23:34:59.080916Z",
     "iopub.status.busy": "2023-02-20T23:34:59.080176Z",
     "iopub.status.idle": "2023-02-20T23:34:59.444621Z",
     "shell.execute_reply": "2023-02-20T23:34:59.443454Z"
    },
    "papermill": {
     "duration": 0.389933,
     "end_time": "2023-02-20T23:34:59.447314",
     "exception": false,
     "start_time": "2023-02-20T23:34:59.057381",
     "status": "completed"
    },
    "tags": []
   },
   "outputs": [
    {
     "data": {
      "text/plain": [
       "<AxesSubplot:xlabel='Sex', ylabel='Survived'>"
      ]
     },
     "execution_count": 25,
     "metadata": {},
     "output_type": "execute_result"
    },
    {
     "data": {
      "image/png": "[encoded data removed]",
      "text/plain": [
       "<Figure size 432x288 with 1 Axes>"
      ]
     },
     "metadata": {
      "needs_background": "light"
     },
     "output_type": "display_data"
    }
   ],
   "source": [
    "sns.barplot(data=df, x='Sex', y='Survived',hue='Pclass')"
   ]
  },
  {
   "cell_type": "markdown",
   "id": "9cf1f785",
   "metadata": {
    "papermill": {
     "duration": 0.021075,
     "end_time": "2023-02-20T23:34:59.490033",
     "exception": false,
     "start_time": "2023-02-20T23:34:59.468958",
     "status": "completed"
    },
    "tags": []
   },
   "source": [
    "# The story so far"
   ]
  },
  {
   "cell_type": "markdown",
   "id": "c3ef3813",
   "metadata": {
    "papermill": {
     "duration": 0.021762,
     "end_time": "2023-02-20T23:34:59.533387",
     "exception": false,
     "start_time": "2023-02-20T23:34:59.511625",
     "status": "completed"
    },
    "tags": []
   },
   "source": [
    "Without changing the data in anyway or running any models the data is already starting to tell its story. It is clear that female passengers had a higher chance of survival than men. This fits with the 'women and children first' idea. We could test that further by creating a new category based on age with 4 possible values, 'man, woman, boy, girl.'\n",
    "The fare paid appears to indicate class of ticket and size of family. Further analysis along with ticket and cabin could possibly have a bearing if higher priced cabins were closer or had better access to the lifeboats?\n",
    "3rd class passengers were the least likely to survive especially if they were men, priority seems to have been given to 1st class female passengers."
   ]
  },
  {
   "cell_type": "markdown",
   "id": "b2c740a1",
   "metadata": {
    "papermill": {
     "duration": 0.021162,
     "end_time": "2023-02-20T23:34:59.576047",
     "exception": false,
     "start_time": "2023-02-20T23:34:59.554885",
     "status": "completed"
    },
    "tags": []
   },
   "source": [
    "# Feature Engineering"
   ]
  },
  {
   "cell_type": "markdown",
   "id": "34d6d668",
   "metadata": {
    "papermill": {
     "duration": 0.02092,
     "end_time": "2023-02-20T23:34:59.618355",
     "exception": false,
     "start_time": "2023-02-20T23:34:59.597435",
     "status": "completed"
    },
    "tags": []
   },
   "source": [
    "I would like to see if the sex and age of the passenger makes a difference, so I will need to add feature to include boys and girls."
   ]
  },
  {
   "cell_type": "code",
   "execution_count": 26,
   "id": "e6d33e9c",
   "metadata": {
    "execution": {
     "iopub.execute_input": "2023-02-20T23:34:59.663536Z",
     "iopub.status.busy": "2023-02-20T23:34:59.663141Z",
     "iopub.status.idle": "2023-02-20T23:34:59.686044Z",
     "shell.execute_reply": "2023-02-20T23:34:59.684642Z"
    },
    "papermill": {
     "duration": 0.048894,
     "end_time": "2023-02-20T23:34:59.688501",
     "exception": false,
     "start_time": "2023-02-20T23:34:59.639607",
     "status": "completed"
    },
    "tags": []
   },
   "outputs": [],
   "source": [
    "def age_and_sex(passenger):\n",
    "    age=passenger['Age']\n",
    "    sex=passenger['Sex']\n",
    "    if age < 16:\n",
    "        if sex == \"male\":\n",
    "            return \"boy\"\n",
    "        else :\n",
    "            return \"girl\"\n",
    "    else :\n",
    "        return sex\n",
    "\n",
    "df['Age_Sex'] = df.apply(age_and_sex,axis=1)"
   ]
  },
  {
   "cell_type": "code",
   "execution_count": 27,
   "id": "94917cad",
   "metadata": {
    "execution": {
     "iopub.execute_input": "2023-02-20T23:34:59.733677Z",
     "iopub.status.busy": "2023-02-20T23:34:59.733293Z",
     "iopub.status.idle": "2023-02-20T23:35:00.300797Z",
     "shell.execute_reply": "2023-02-20T23:35:00.299598Z"
    },
    "papermill": {
     "duration": 0.59292,
     "end_time": "2023-02-20T23:35:00.303197",
     "exception": false,
     "start_time": "2023-02-20T23:34:59.710277",
     "status": "completed"
    },
    "tags": []
   },
   "outputs": [
    {
     "data": {
      "text/plain": [
       "<AxesSubplot:xlabel='Age_Sex', ylabel='Survived'>"
      ]
     },
     "execution_count": 27,
     "metadata": {},
     "output_type": "execute_result"
    },
    {
     "data": {
      "image/png": "[encoded data removed]",
      "text/plain": [
       "<Figure size 432x288 with 1 Axes>"
      ]
     },
     "metadata": {
      "needs_background": "light"
     },
     "output_type": "display_data"
    }
   ],
   "source": [
    "sns.barplot(data=df, x='Age_Sex', y='Survived',hue='Pclass')"
   ]
  },
  {
   "cell_type": "markdown",
   "id": "23d2e47d",
   "metadata": {
    "papermill": {
     "duration": 0.02213,
     "end_time": "2023-02-20T23:35:00.347514",
     "exception": false,
     "start_time": "2023-02-20T23:35:00.325384",
     "status": "completed"
    },
    "tags": []
   },
   "source": [
    "Children, particularly 1st and 2nd class boys, seem to have been prioritised with female passengers. Again this confirms 'women and children first' but perhaps boys were favoured over girls in 1st class due to the idea of legacy."
   ]
  },
  {
   "cell_type": "markdown",
   "id": "ef1d8036",
   "metadata": {
    "papermill": {
     "duration": 0.021905,
     "end_time": "2023-02-20T23:35:00.392021",
     "exception": false,
     "start_time": "2023-02-20T23:35:00.370116",
     "status": "completed"
    },
    "tags": []
   },
   "source": [
    "I'm going to trim the dataframe down by removing a number of the features. Name, Ticket, PassengerId aren't neccesary to train the model and in my 1st run I'm going to ignore Parch, SibSp, Cabin, Fare, and Embarked, so I'm really looking at age, gender and class for my 1st run."
   ]
  },
  {
   "cell_type": "code",
   "execution_count": 28,
   "id": "2ad1d98b",
   "metadata": {
    "execution": {
     "iopub.execute_input": "2023-02-20T23:35:00.438274Z",
     "iopub.status.busy": "2023-02-20T23:35:00.437900Z",
     "iopub.status.idle": "2023-02-20T23:35:00.444320Z",
     "shell.execute_reply": "2023-02-20T23:35:00.443554Z"
    },
    "papermill": {
     "duration": 0.03182,
     "end_time": "2023-02-20T23:35:00.446307",
     "exception": false,
     "start_time": "2023-02-20T23:35:00.414487",
     "status": "completed"
    },
    "tags": []
   },
   "outputs": [],
   "source": [
    "df = df.drop(['Name','Ticket','Parch','SibSp','Embarked','Cabin','Fare'], axis=1)"
   ]
  },
  {
   "cell_type": "markdown",
   "id": "986f7d3f",
   "metadata": {
    "papermill": {
     "duration": 0.021665,
     "end_time": "2023-02-20T23:35:00.490156",
     "exception": false,
     "start_time": "2023-02-20T23:35:00.468491",
     "status": "completed"
    },
    "tags": []
   },
   "source": [
    "The Age column is missing some data so I will replace the missing ages with the mean age of the passengers."
   ]
  },
  {
   "cell_type": "code",
   "execution_count": 29,
   "id": "5cee85f4",
   "metadata": {
    "execution": {
     "iopub.execute_input": "2023-02-20T23:35:00.536438Z",
     "iopub.status.busy": "2023-02-20T23:35:00.535681Z",
     "iopub.status.idle": "2023-02-20T23:35:00.542383Z",
     "shell.execute_reply": "2023-02-20T23:35:00.541282Z"
    },
    "papermill": {
     "duration": 0.032067,
     "end_time": "2023-02-20T23:35:00.544858",
     "exception": false,
     "start_time": "2023-02-20T23:35:00.512791",
     "status": "completed"
    },
    "tags": []
   },
   "outputs": [],
   "source": [
    "mean_age = df['Age'].mean()\n",
    "df['Age'].fillna(value=mean_age, inplace=True)"
   ]
  },
  {
   "cell_type": "code",
   "execution_count": 30,
   "id": "50ce5ba7",
   "metadata": {
    "execution": {
     "iopub.execute_input": "2023-02-20T23:35:00.590957Z",
     "iopub.status.busy": "2023-02-20T23:35:00.589617Z",
     "iopub.status.idle": "2023-02-20T23:35:00.602702Z",
     "shell.execute_reply": "2023-02-20T23:35:00.601935Z"
    },
    "papermill": {
     "duration": 0.038273,
     "end_time": "2023-02-20T23:35:00.604965",
     "exception": false,
     "start_time": "2023-02-20T23:35:00.566692",
     "status": "completed"
    },
    "tags": []
   },
   "outputs": [
    {
     "data": {
      "text/html": [
       "<div>\n",
       "<style scoped>\n",
       "    .dataframe tbody tr th:only-of-type {\n",
       "        vertical-align: middle;\n",
       "    }\n",
       "\n",
       "    .dataframe tbody tr th {\n",
       "        vertical-align: top;\n",
       "    }\n",
       "\n",
       "    .dataframe thead th {\n",
       "        text-align: right;\n",
       "    }\n",
       "</style>\n",
       "<table border=\"1\" class=\"dataframe\">\n",
       "  <thead>\n",
       "    <tr style=\"text-align: right;\">\n",
       "      <th></th>\n",
       "      <th>PassengerId</th>\n",
       "      <th>Survived</th>\n",
       "      <th>Pclass</th>\n",
       "      <th>Sex</th>\n",
       "      <th>Age</th>\n",
       "      <th>Age_Sex</th>\n",
       "    </tr>\n",
       "  </thead>\n",
       "  <tbody>\n",
       "    <tr>\n",
       "      <th>0</th>\n",
       "      <td>1</td>\n",
       "      <td>0</td>\n",
       "      <td>3</td>\n",
       "      <td>male</td>\n",
       "      <td>22.0</td>\n",
       "      <td>male</td>\n",
       "    </tr>\n",
       "    <tr>\n",
       "      <th>1</th>\n",
       "      <td>2</td>\n",
       "      <td>1</td>\n",
       "      <td>1</td>\n",
       "      <td>female</td>\n",
       "      <td>38.0</td>\n",
       "      <td>female</td>\n",
       "    </tr>\n",
       "    <tr>\n",
       "      <th>2</th>\n",
       "      <td>3</td>\n",
       "      <td>1</td>\n",
       "      <td>3</td>\n",
       "      <td>female</td>\n",
       "      <td>26.0</td>\n",
       "      <td>female</td>\n",
       "    </tr>\n",
       "    <tr>\n",
       "      <th>3</th>\n",
       "      <td>4</td>\n",
       "      <td>1</td>\n",
       "      <td>1</td>\n",
       "      <td>female</td>\n",
       "      <td>35.0</td>\n",
       "      <td>female</td>\n",
       "    </tr>\n",
       "    <tr>\n",
       "      <th>4</th>\n",
       "      <td>5</td>\n",
       "      <td>0</td>\n",
       "      <td>3</td>\n",
       "      <td>male</td>\n",
       "      <td>35.0</td>\n",
       "      <td>male</td>\n",
       "    </tr>\n",
       "  </tbody>\n",
       "</table>\n",
       "</div>"
      ],
      "text/plain": [
       "   PassengerId  Survived  Pclass     Sex   Age Age_Sex\n",
       "0            1         0       3    male  22.0    male\n",
       "1            2         1       1  female  38.0  female\n",
       "2            3         1       3  female  26.0  female\n",
       "3            4         1       1  female  35.0  female\n",
       "4            5         0       3    male  35.0    male"
      ]
     },
     "execution_count": 30,
     "metadata": {},
     "output_type": "execute_result"
    }
   ],
   "source": [
    "df.head()"
   ]
  },
  {
   "cell_type": "markdown",
   "id": "74bceb7c",
   "metadata": {
    "papermill": {
     "duration": 0.022188,
     "end_time": "2023-02-20T23:35:00.650385",
     "exception": false,
     "start_time": "2023-02-20T23:35:00.628197",
     "status": "completed"
    },
    "tags": []
   },
   "source": [
    "# Model"
   ]
  },
  {
   "cell_type": "markdown",
   "id": "55d57fd6",
   "metadata": {
    "papermill": {
     "duration": 0.022065,
     "end_time": "2023-02-20T23:35:00.694399",
     "exception": false,
     "start_time": "2023-02-20T23:35:00.672334",
     "status": "completed"
    },
    "tags": []
   },
   "source": [
    "My background is in linear programming and my first thoughts for this problem are to use a decision tree where we calculate the probability of survival for each of the chosen features and calculate an overal probablity of survival for each passenger. So for my 1st attempt I will try a random forest approach.\n",
    "\n",
    "I will first need to convert my remaining categorical data to a numeric"
   ]
  },
  {
   "cell_type": "code",
   "execution_count": 31,
   "id": "4f08cf5b",
   "metadata": {
    "execution": {
     "iopub.execute_input": "2023-02-20T23:35:00.741939Z",
     "iopub.status.busy": "2023-02-20T23:35:00.741193Z",
     "iopub.status.idle": "2023-02-20T23:35:00.749047Z",
     "shell.execute_reply": "2023-02-20T23:35:00.747927Z"
    },
    "papermill": {
     "duration": 0.034806,
     "end_time": "2023-02-20T23:35:00.751705",
     "exception": false,
     "start_time": "2023-02-20T23:35:00.716899",
     "status": "completed"
    },
    "tags": []
   },
   "outputs": [],
   "source": [
    "categories={\"boy\": 1, \"male\": 2, \"girl\": 3, \"female\": 4}\n",
    "df['Age_Sex'] = df['Age_Sex'].map(categories)\n",
    "df=df.drop(['Sex'],axis=1)"
   ]
  },
  {
   "cell_type": "code",
   "execution_count": 32,
   "id": "197e4456",
   "metadata": {
    "execution": {
     "iopub.execute_input": "2023-02-20T23:35:00.799835Z",
     "iopub.status.busy": "2023-02-20T23:35:00.799375Z",
     "iopub.status.idle": "2023-02-20T23:35:00.811417Z",
     "shell.execute_reply": "2023-02-20T23:35:00.810531Z"
    },
    "papermill": {
     "duration": 0.038283,
     "end_time": "2023-02-20T23:35:00.813524",
     "exception": false,
     "start_time": "2023-02-20T23:35:00.775241",
     "status": "completed"
    },
    "tags": []
   },
   "outputs": [
    {
     "data": {
      "text/html": [
       "<div>\n",
       "<style scoped>\n",
       "    .dataframe tbody tr th:only-of-type {\n",
       "        vertical-align: middle;\n",
       "    }\n",
       "\n",
       "    .dataframe tbody tr th {\n",
       "        vertical-align: top;\n",
       "    }\n",
       "\n",
       "    .dataframe thead th {\n",
       "        text-align: right;\n",
       "    }\n",
       "</style>\n",
       "<table border=\"1\" class=\"dataframe\">\n",
       "  <thead>\n",
       "    <tr style=\"text-align: right;\">\n",
       "      <th></th>\n",
       "      <th>PassengerId</th>\n",
       "      <th>Survived</th>\n",
       "      <th>Pclass</th>\n",
       "      <th>Age</th>\n",
       "      <th>Age_Sex</th>\n",
       "    </tr>\n",
       "  </thead>\n",
       "  <tbody>\n",
       "    <tr>\n",
       "      <th>0</th>\n",
       "      <td>1</td>\n",
       "      <td>0</td>\n",
       "      <td>3</td>\n",
       "      <td>22.0</td>\n",
       "      <td>2</td>\n",
       "    </tr>\n",
       "    <tr>\n",
       "      <th>1</th>\n",
       "      <td>2</td>\n",
       "      <td>1</td>\n",
       "      <td>1</td>\n",
       "      <td>38.0</td>\n",
       "      <td>4</td>\n",
       "    </tr>\n",
       "    <tr>\n",
       "      <th>2</th>\n",
       "      <td>3</td>\n",
       "      <td>1</td>\n",
       "      <td>3</td>\n",
       "      <td>26.0</td>\n",
       "      <td>4</td>\n",
       "    </tr>\n",
       "    <tr>\n",
       "      <th>3</th>\n",
       "      <td>4</td>\n",
       "      <td>1</td>\n",
       "      <td>1</td>\n",
       "      <td>35.0</td>\n",
       "      <td>4</td>\n",
       "    </tr>\n",
       "    <tr>\n",
       "      <th>4</th>\n",
       "      <td>5</td>\n",
       "      <td>0</td>\n",
       "      <td>3</td>\n",
       "      <td>35.0</td>\n",
       "      <td>2</td>\n",
       "    </tr>\n",
       "  </tbody>\n",
       "</table>\n",
       "</div>"
      ],
      "text/plain": [
       "   PassengerId  Survived  Pclass   Age  Age_Sex\n",
       "0            1         0       3  22.0        2\n",
       "1            2         1       1  38.0        4\n",
       "2            3         1       3  26.0        4\n",
       "3            4         1       1  35.0        4\n",
       "4            5         0       3  35.0        2"
      ]
     },
     "execution_count": 32,
     "metadata": {},
     "output_type": "execute_result"
    }
   ],
   "source": [
    "df.head()"
   ]
  },
  {
   "cell_type": "code",
   "execution_count": 33,
   "id": "40fcc436",
   "metadata": {
    "execution": {
     "iopub.execute_input": "2023-02-20T23:35:00.860195Z",
     "iopub.status.busy": "2023-02-20T23:35:00.859753Z",
     "iopub.status.idle": "2023-02-20T23:35:01.807995Z",
     "shell.execute_reply": "2023-02-20T23:35:01.807082Z"
    },
    "papermill": {
     "duration": 0.974191,
     "end_time": "2023-02-20T23:35:01.810320",
     "exception": false,
     "start_time": "2023-02-20T23:35:00.836129",
     "status": "completed"
    },
    "tags": []
   },
   "outputs": [
    {
     "name": "stdout",
     "output_type": "stream",
     "text": [
      "(712, 4) (179, 4)\n",
      "(712,) (179,)\n",
      "   Accuracy: 0.770949720670391\n",
      "              precision    recall  f1-score   support\n",
      "\n",
      "           0       0.77      0.88      0.82       106\n",
      "           1       0.78      0.62      0.69        73\n",
      "\n",
      "    accuracy                           0.77       179\n",
      "   macro avg       0.77      0.75      0.75       179\n",
      "weighted avg       0.77      0.77      0.77       179\n",
      "\n"
     ]
    },
    {
     "data": {
      "image/png": "[encoded data removed]",
      "text/plain": [
       "<Figure size 576x360 with 2 Axes>"
      ]
     },
     "metadata": {
      "needs_background": "light"
     },
     "output_type": "display_data"
    }
   ],
   "source": [
    "from sklearn.ensemble import RandomForestClassifier\n",
    "from sklearn import metrics\n",
    "from sklearn.model_selection import train_test_split\n",
    "from sklearn.metrics import classification_report\n",
    "from sklearn.metrics import confusion_matrix\n",
    "\n",
    "y=df['Survived']\n",
    "df=df.drop(['Survived'],axis=1)\n",
    "\n",
    "X_train, X_test, y_train, y_test = train_test_split(df, y, test_size=0.2)\n",
    "print(X_train.shape, X_test.shape)\n",
    "print(y_train.shape, y_test.shape)\n",
    "\n",
    "clf = RandomForestClassifier(n_estimators=100)\n",
    "\n",
    "#Train the model using the training sets y_pred=clf.predict(X_test)\n",
    "clf.fit(X_train, y_train)\n",
    "y_pred = clf.predict(X_test)\n",
    "\n",
    "print(\"   Accuracy: {}\".format(metrics.accuracy_score(y_test, y_pred)))\n",
    "\n",
    "print(classification_report(y_test,y_pred))\n",
    "\n",
    "conf_matrix = confusion_matrix(y_test, y_pred)\n",
    "\n",
    "plt.figure(figsize=(8,5))\n",
    "sns.heatmap(conf_matrix, annot=True)\n",
    "plt.title('Confusion Matrix')\n",
    "plt.tight_layout()"
   ]
  },
  {
   "cell_type": "markdown",
   "id": "d0ee6c6b",
   "metadata": {
    "papermill": {
     "duration": 0.022947,
     "end_time": "2023-02-20T23:35:01.856939",
     "exception": false,
     "start_time": "2023-02-20T23:35:01.833992",
     "status": "completed"
    },
    "tags": []
   },
   "source": [
    "# Test Data"
   ]
  },
  {
   "cell_type": "markdown",
   "id": "e4667a7f",
   "metadata": {
    "papermill": {
     "duration": 0.022365,
     "end_time": "2023-02-20T23:35:01.902017",
     "exception": false,
     "start_time": "2023-02-20T23:35:01.879652",
     "status": "completed"
    },
    "tags": []
   },
   "source": [
    "Time to make some predictions using the test data."
   ]
  },
  {
   "cell_type": "code",
   "execution_count": 34,
   "id": "6169a218",
   "metadata": {
    "execution": {
     "iopub.execute_input": "2023-02-20T23:35:01.949529Z",
     "iopub.status.busy": "2023-02-20T23:35:01.948753Z",
     "iopub.status.idle": "2023-02-20T23:35:01.980388Z",
     "shell.execute_reply": "2023-02-20T23:35:01.979152Z"
    },
    "papermill": {
     "duration": 0.058159,
     "end_time": "2023-02-20T23:35:01.982935",
     "exception": false,
     "start_time": "2023-02-20T23:35:01.924776",
     "status": "completed"
    },
    "tags": []
   },
   "outputs": [
    {
     "data": {
      "text/html": [
       "<div>\n",
       "<style scoped>\n",
       "    .dataframe tbody tr th:only-of-type {\n",
       "        vertical-align: middle;\n",
       "    }\n",
       "\n",
       "    .dataframe tbody tr th {\n",
       "        vertical-align: top;\n",
       "    }\n",
       "\n",
       "    .dataframe thead th {\n",
       "        text-align: right;\n",
       "    }\n",
       "</style>\n",
       "<table border=\"1\" class=\"dataframe\">\n",
       "  <thead>\n",
       "    <tr style=\"text-align: right;\">\n",
       "      <th></th>\n",
       "      <th>PassengerId</th>\n",
       "      <th>Pclass</th>\n",
       "      <th>Name</th>\n",
       "      <th>Sex</th>\n",
       "      <th>Age</th>\n",
       "      <th>SibSp</th>\n",
       "      <th>Parch</th>\n",
       "      <th>Ticket</th>\n",
       "      <th>Fare</th>\n",
       "      <th>Cabin</th>\n",
       "      <th>Embarked</th>\n",
       "    </tr>\n",
       "  </thead>\n",
       "  <tbody>\n",
       "    <tr>\n",
       "      <th>0</th>\n",
       "      <td>892</td>\n",
       "      <td>3</td>\n",
       "      <td>Kelly, Mr. James</td>\n",
       "      <td>male</td>\n",
       "      <td>34.5</td>\n",
       "      <td>0</td>\n",
       "      <td>0</td>\n",
       "      <td>330911</td>\n",
       "      <td>7.8292</td>\n",
       "      <td>NaN</td>\n",
       "      <td>Q</td>\n",
       "    </tr>\n",
       "    <tr>\n",
       "      <th>1</th>\n",
       "      <td>893</td>\n",
       "      <td>3</td>\n",
       "      <td>Wilkes, Mrs. James (Ellen Needs)</td>\n",
       "      <td>female</td>\n",
       "      <td>47.0</td>\n",
       "      <td>1</td>\n",
       "      <td>0</td>\n",
       "      <td>363272</td>\n",
       "      <td>7.0000</td>\n",
       "      <td>NaN</td>\n",
       "      <td>S</td>\n",
       "    </tr>\n",
       "    <tr>\n",
       "      <th>2</th>\n",
       "      <td>894</td>\n",
       "      <td>2</td>\n",
       "      <td>Myles, Mr. Thomas Francis</td>\n",
       "      <td>male</td>\n",
       "      <td>62.0</td>\n",
       "      <td>0</td>\n",
       "      <td>0</td>\n",
       "      <td>240276</td>\n",
       "      <td>9.6875</td>\n",
       "      <td>NaN</td>\n",
       "      <td>Q</td>\n",
       "    </tr>\n",
       "    <tr>\n",
       "      <th>3</th>\n",
       "      <td>895</td>\n",
       "      <td>3</td>\n",
       "      <td>Wirz, Mr. Albert</td>\n",
       "      <td>male</td>\n",
       "      <td>27.0</td>\n",
       "      <td>0</td>\n",
       "      <td>0</td>\n",
       "      <td>315154</td>\n",
       "      <td>8.6625</td>\n",
       "      <td>NaN</td>\n",
       "      <td>S</td>\n",
       "    </tr>\n",
       "    <tr>\n",
       "      <th>4</th>\n",
       "      <td>896</td>\n",
       "      <td>3</td>\n",
       "      <td>Hirvonen, Mrs. Alexander (Helga E Lindqvist)</td>\n",
       "      <td>female</td>\n",
       "      <td>22.0</td>\n",
       "      <td>1</td>\n",
       "      <td>1</td>\n",
       "      <td>3101298</td>\n",
       "      <td>12.2875</td>\n",
       "      <td>NaN</td>\n",
       "      <td>S</td>\n",
       "    </tr>\n",
       "  </tbody>\n",
       "</table>\n",
       "</div>"
      ],
      "text/plain": [
       "   PassengerId  Pclass                                          Name     Sex  \\\n",
       "0          892       3                              Kelly, Mr. James    male   \n",
       "1          893       3              Wilkes, Mrs. James (Ellen Needs)  female   \n",
       "2          894       2                     Myles, Mr. Thomas Francis    male   \n",
       "3          895       3                              Wirz, Mr. Albert    male   \n",
       "4          896       3  Hirvonen, Mrs. Alexander (Helga E Lindqvist)  female   \n",
       "\n",
       "    Age  SibSp  Parch   Ticket     Fare Cabin Embarked  \n",
       "0  34.5      0      0   330911   7.8292   NaN        Q  \n",
       "1  47.0      1      0   363272   7.0000   NaN        S  \n",
       "2  62.0      0      0   240276   9.6875   NaN        Q  \n",
       "3  27.0      0      0   315154   8.6625   NaN        S  \n",
       "4  22.0      1      1  3101298  12.2875   NaN        S  "
      ]
     },
     "execution_count": 34,
     "metadata": {},
     "output_type": "execute_result"
    }
   ],
   "source": [
    "df_test = pd.read_csv('/kaggle/input/titanic/test.csv')\n",
    "df_test.head()"
   ]
  },
  {
   "cell_type": "markdown",
   "id": "65d96863",
   "metadata": {
    "papermill": {
     "duration": 0.022667,
     "end_time": "2023-02-20T23:35:02.029264",
     "exception": false,
     "start_time": "2023-02-20T23:35:02.006597",
     "status": "completed"
    },
    "tags": []
   },
   "source": [
    "We need to drop the unimportant features, create a new Age_Sex feature and clean the data as before."
   ]
  },
  {
   "cell_type": "code",
   "execution_count": 35,
   "id": "2a5d8d30",
   "metadata": {
    "execution": {
     "iopub.execute_input": "2023-02-20T23:35:02.076343Z",
     "iopub.status.busy": "2023-02-20T23:35:02.075919Z",
     "iopub.status.idle": "2023-02-20T23:35:02.103918Z",
     "shell.execute_reply": "2023-02-20T23:35:02.102702Z"
    },
    "papermill": {
     "duration": 0.054123,
     "end_time": "2023-02-20T23:35:02.106156",
     "exception": false,
     "start_time": "2023-02-20T23:35:02.052033",
     "status": "completed"
    },
    "tags": []
   },
   "outputs": [
    {
     "data": {
      "text/html": [
       "<div>\n",
       "<style scoped>\n",
       "    .dataframe tbody tr th:only-of-type {\n",
       "        vertical-align: middle;\n",
       "    }\n",
       "\n",
       "    .dataframe tbody tr th {\n",
       "        vertical-align: top;\n",
       "    }\n",
       "\n",
       "    .dataframe thead th {\n",
       "        text-align: right;\n",
       "    }\n",
       "</style>\n",
       "<table border=\"1\" class=\"dataframe\">\n",
       "  <thead>\n",
       "    <tr style=\"text-align: right;\">\n",
       "      <th></th>\n",
       "      <th>PassengerId</th>\n",
       "      <th>Pclass</th>\n",
       "      <th>Age</th>\n",
       "      <th>Age_Sex</th>\n",
       "    </tr>\n",
       "  </thead>\n",
       "  <tbody>\n",
       "    <tr>\n",
       "      <th>0</th>\n",
       "      <td>892</td>\n",
       "      <td>3</td>\n",
       "      <td>34.5</td>\n",
       "      <td>2</td>\n",
       "    </tr>\n",
       "    <tr>\n",
       "      <th>1</th>\n",
       "      <td>893</td>\n",
       "      <td>3</td>\n",
       "      <td>47.0</td>\n",
       "      <td>4</td>\n",
       "    </tr>\n",
       "    <tr>\n",
       "      <th>2</th>\n",
       "      <td>894</td>\n",
       "      <td>2</td>\n",
       "      <td>62.0</td>\n",
       "      <td>2</td>\n",
       "    </tr>\n",
       "    <tr>\n",
       "      <th>3</th>\n",
       "      <td>895</td>\n",
       "      <td>3</td>\n",
       "      <td>27.0</td>\n",
       "      <td>2</td>\n",
       "    </tr>\n",
       "    <tr>\n",
       "      <th>4</th>\n",
       "      <td>896</td>\n",
       "      <td>3</td>\n",
       "      <td>22.0</td>\n",
       "      <td>4</td>\n",
       "    </tr>\n",
       "  </tbody>\n",
       "</table>\n",
       "</div>"
      ],
      "text/plain": [
       "   PassengerId  Pclass   Age  Age_Sex\n",
       "0          892       3  34.5        2\n",
       "1          893       3  47.0        4\n",
       "2          894       2  62.0        2\n",
       "3          895       3  27.0        2\n",
       "4          896       3  22.0        4"
      ]
     },
     "execution_count": 35,
     "metadata": {},
     "output_type": "execute_result"
    }
   ],
   "source": [
    "df_test['Age_Sex'] = df_test.apply(age_and_sex,axis=1)\n",
    "\n",
    "df_test = df_test.drop(['Name','Ticket','Parch','SibSp','Embarked','Cabin','Fare'], axis=1)\n",
    "\n",
    "mean_age = df_test['Age'].mean()\n",
    "df_test['Age'].fillna(value=mean_age, inplace=True)\n",
    "\n",
    "categories={\"boy\": 1, \"male\": 2, \"girl\": 3, \"female\": 4}\n",
    "df_test['Age_Sex'] = df_test['Age_Sex'].map(categories)\n",
    "df_test=df_test.drop(['Sex'],axis=1)\n",
    "df_test.head()"
   ]
  },
  {
   "cell_type": "code",
   "execution_count": 36,
   "id": "12939313",
   "metadata": {
    "execution": {
     "iopub.execute_input": "2023-02-20T23:35:02.155861Z",
     "iopub.status.busy": "2023-02-20T23:35:02.155198Z",
     "iopub.status.idle": "2023-02-20T23:35:02.192563Z",
     "shell.execute_reply": "2023-02-20T23:35:02.191670Z"
    },
    "papermill": {
     "duration": 0.064926,
     "end_time": "2023-02-20T23:35:02.195346",
     "exception": false,
     "start_time": "2023-02-20T23:35:02.130420",
     "status": "completed"
    },
    "tags": []
   },
   "outputs": [
    {
     "data": {
      "text/html": [
       "<div>\n",
       "<style scoped>\n",
       "    .dataframe tbody tr th:only-of-type {\n",
       "        vertical-align: middle;\n",
       "    }\n",
       "\n",
       "    .dataframe tbody tr th {\n",
       "        vertical-align: top;\n",
       "    }\n",
       "\n",
       "    .dataframe thead th {\n",
       "        text-align: right;\n",
       "    }\n",
       "</style>\n",
       "<table border=\"1\" class=\"dataframe\">\n",
       "  <thead>\n",
       "    <tr style=\"text-align: right;\">\n",
       "      <th></th>\n",
       "      <th>PassengerId</th>\n",
       "      <th>Pclass</th>\n",
       "      <th>Age</th>\n",
       "      <th>Age_Sex</th>\n",
       "      <th>Survival_Predictions</th>\n",
       "    </tr>\n",
       "  </thead>\n",
       "  <tbody>\n",
       "    <tr>\n",
       "      <th>0</th>\n",
       "      <td>892</td>\n",
       "      <td>3</td>\n",
       "      <td>34.5</td>\n",
       "      <td>2</td>\n",
       "      <td>0</td>\n",
       "    </tr>\n",
       "    <tr>\n",
       "      <th>1</th>\n",
       "      <td>893</td>\n",
       "      <td>3</td>\n",
       "      <td>47.0</td>\n",
       "      <td>4</td>\n",
       "      <td>0</td>\n",
       "    </tr>\n",
       "    <tr>\n",
       "      <th>2</th>\n",
       "      <td>894</td>\n",
       "      <td>2</td>\n",
       "      <td>62.0</td>\n",
       "      <td>2</td>\n",
       "      <td>0</td>\n",
       "    </tr>\n",
       "    <tr>\n",
       "      <th>3</th>\n",
       "      <td>895</td>\n",
       "      <td>3</td>\n",
       "      <td>27.0</td>\n",
       "      <td>2</td>\n",
       "      <td>0</td>\n",
       "    </tr>\n",
       "    <tr>\n",
       "      <th>4</th>\n",
       "      <td>896</td>\n",
       "      <td>3</td>\n",
       "      <td>22.0</td>\n",
       "      <td>4</td>\n",
       "      <td>0</td>\n",
       "    </tr>\n",
       "  </tbody>\n",
       "</table>\n",
       "</div>"
      ],
      "text/plain": [
       "   PassengerId  Pclass   Age  Age_Sex  Survival_Predictions\n",
       "0          892       3  34.5        2                     0\n",
       "1          893       3  47.0        4                     0\n",
       "2          894       2  62.0        2                     0\n",
       "3          895       3  27.0        2                     0\n",
       "4          896       3  22.0        4                     0"
      ]
     },
     "execution_count": 36,
     "metadata": {},
     "output_type": "execute_result"
    }
   ],
   "source": [
    "prediction = clf.predict(df_test)\n",
    "\n",
    "df_test['Survival_Predictions'] = pd.Series(prediction)\n",
    "df_test.head()"
   ]
  },
  {
   "cell_type": "markdown",
   "id": "6959570b",
   "metadata": {
    "papermill": {
     "duration": 0.022938,
     "end_time": "2023-02-20T23:35:02.242013",
     "exception": false,
     "start_time": "2023-02-20T23:35:02.219075",
     "status": "completed"
    },
    "tags": []
   },
   "source": [
    "Create a submission file"
   ]
  },
  {
   "cell_type": "code",
   "execution_count": 37,
   "id": "7c77d664",
   "metadata": {
    "execution": {
     "iopub.execute_input": "2023-02-20T23:35:02.290717Z",
     "iopub.status.busy": "2023-02-20T23:35:02.289791Z",
     "iopub.status.idle": "2023-02-20T23:35:02.303542Z",
     "shell.execute_reply": "2023-02-20T23:35:02.302490Z"
    },
    "papermill": {
     "duration": 0.040771,
     "end_time": "2023-02-20T23:35:02.305972",
     "exception": false,
     "start_time": "2023-02-20T23:35:02.265201",
     "status": "completed"
    },
    "tags": []
   },
   "outputs": [
    {
     "data": {
      "text/html": [
       "<div>\n",
       "<style scoped>\n",
       "    .dataframe tbody tr th:only-of-type {\n",
       "        vertical-align: middle;\n",
       "    }\n",
       "\n",
       "    .dataframe tbody tr th {\n",
       "        vertical-align: top;\n",
       "    }\n",
       "\n",
       "    .dataframe thead th {\n",
       "        text-align: right;\n",
       "    }\n",
       "</style>\n",
       "<table border=\"1\" class=\"dataframe\">\n",
       "  <thead>\n",
       "    <tr style=\"text-align: right;\">\n",
       "      <th></th>\n",
       "      <th>Survived</th>\n",
       "    </tr>\n",
       "    <tr>\n",
       "      <th>PassengerId</th>\n",
       "      <th></th>\n",
       "    </tr>\n",
       "  </thead>\n",
       "  <tbody>\n",
       "    <tr>\n",
       "      <th>892</th>\n",
       "      <td>0</td>\n",
       "    </tr>\n",
       "    <tr>\n",
       "      <th>893</th>\n",
       "      <td>0</td>\n",
       "    </tr>\n",
       "    <tr>\n",
       "      <th>894</th>\n",
       "      <td>0</td>\n",
       "    </tr>\n",
       "    <tr>\n",
       "      <th>895</th>\n",
       "      <td>0</td>\n",
       "    </tr>\n",
       "    <tr>\n",
       "      <th>896</th>\n",
       "      <td>0</td>\n",
       "    </tr>\n",
       "  </tbody>\n",
       "</table>\n",
       "</div>"
      ],
      "text/plain": [
       "             Survived\n",
       "PassengerId          \n",
       "892                 0\n",
       "893                 0\n",
       "894                 0\n",
       "895                 0\n",
       "896                 0"
      ]
     },
     "execution_count": 37,
     "metadata": {},
     "output_type": "execute_result"
    }
   ],
   "source": [
    "submission = pd.DataFrame()\n",
    "submission['PassengerId'] = df_test['PassengerId']\n",
    "submission['Survived'] = df_test['Survival_Predictions']\n",
    "submission.set_index('PassengerId', inplace=True)\n",
    "submission.head()"
   ]
  },
  {
   "cell_type": "code",
   "execution_count": 38,
   "id": "06c39649",
   "metadata": {
    "execution": {
     "iopub.execute_input": "2023-02-20T23:35:02.355696Z",
     "iopub.status.busy": "2023-02-20T23:35:02.354313Z",
     "iopub.status.idle": "2023-02-20T23:35:02.369970Z",
     "shell.execute_reply": "2023-02-20T23:35:02.368724Z"
    },
    "papermill": {
     "duration": 0.042652,
     "end_time": "2023-02-20T23:35:02.372271",
     "exception": false,
     "start_time": "2023-02-20T23:35:02.329619",
     "status": "completed"
    },
    "tags": []
   },
   "outputs": [
    {
     "data": {
      "text/html": [
       "<div>\n",
       "<style scoped>\n",
       "    .dataframe tbody tr th:only-of-type {\n",
       "        vertical-align: middle;\n",
       "    }\n",
       "\n",
       "    .dataframe tbody tr th {\n",
       "        vertical-align: top;\n",
       "    }\n",
       "\n",
       "    .dataframe thead th {\n",
       "        text-align: right;\n",
       "    }\n",
       "</style>\n",
       "<table border=\"1\" class=\"dataframe\">\n",
       "  <thead>\n",
       "    <tr style=\"text-align: right;\">\n",
       "      <th></th>\n",
       "      <th>Survived</th>\n",
       "    </tr>\n",
       "  </thead>\n",
       "  <tbody>\n",
       "    <tr>\n",
       "      <th>count</th>\n",
       "      <td>418.000000</td>\n",
       "    </tr>\n",
       "    <tr>\n",
       "      <th>mean</th>\n",
       "      <td>0.299043</td>\n",
       "    </tr>\n",
       "    <tr>\n",
       "      <th>std</th>\n",
       "      <td>0.458387</td>\n",
       "    </tr>\n",
       "    <tr>\n",
       "      <th>min</th>\n",
       "      <td>0.000000</td>\n",
       "    </tr>\n",
       "    <tr>\n",
       "      <th>25%</th>\n",
       "      <td>0.000000</td>\n",
       "    </tr>\n",
       "    <tr>\n",
       "      <th>50%</th>\n",
       "      <td>0.000000</td>\n",
       "    </tr>\n",
       "    <tr>\n",
       "      <th>75%</th>\n",
       "      <td>1.000000</td>\n",
       "    </tr>\n",
       "    <tr>\n",
       "      <th>max</th>\n",
       "      <td>1.000000</td>\n",
       "    </tr>\n",
       "  </tbody>\n",
       "</table>\n",
       "</div>"
      ],
      "text/plain": [
       "         Survived\n",
       "count  418.000000\n",
       "mean     0.299043\n",
       "std      0.458387\n",
       "min      0.000000\n",
       "25%      0.000000\n",
       "50%      0.000000\n",
       "75%      1.000000\n",
       "max      1.000000"
      ]
     },
     "execution_count": 38,
     "metadata": {},
     "output_type": "execute_result"
    }
   ],
   "source": [
    "submission.describe()"
   ]
  },
  {
   "cell_type": "code",
   "execution_count": 39,
   "id": "7165ecca",
   "metadata": {
    "execution": {
     "iopub.execute_input": "2023-02-20T23:35:02.422449Z",
     "iopub.status.busy": "2023-02-20T23:35:02.421355Z",
     "iopub.status.idle": "2023-02-20T23:35:02.430294Z",
     "shell.execute_reply": "2023-02-20T23:35:02.429422Z"
    },
    "papermill": {
     "duration": 0.036094,
     "end_time": "2023-02-20T23:35:02.432545",
     "exception": false,
     "start_time": "2023-02-20T23:35:02.396451",
     "status": "completed"
    },
    "tags": []
   },
   "outputs": [],
   "source": [
    "submission.to_csv('submission.csv',index=True)"
   ]
  },
  {
   "cell_type": "markdown",
   "id": "365cbaaf",
   "metadata": {
    "papermill": {
     "duration": 0.023247,
     "end_time": "2023-02-20T23:35:02.479563",
     "exception": false,
     "start_time": "2023-02-20T23:35:02.456316",
     "status": "completed"
    },
    "tags": []
   },
   "source": [
    "# Conclusions"
   ]
  },
  {
   "cell_type": "markdown",
   "id": "1ea341dd",
   "metadata": {
    "papermill": {
     "duration": 0.023237,
     "end_time": "2023-02-20T23:35:02.526774",
     "exception": false,
     "start_time": "2023-02-20T23:35:02.503537",
     "status": "completed"
    },
    "tags": []
   },
   "source": [
    "This version gave me a score of 0.78947 This isn't really surprising as I focussed on a small subset of the features. However this was a fun and informative experiment on how kaggle competitions work and how to build a data science project.\n",
    "\n",
    "Future versions should include\n",
    "* A comparison of different categorisation models\n",
    "* A more in depth breakdown of some of the ignored features such as cabin, parents, siblings etc.\n",
    "\n",
    "There are a lot of walkthroughs and tutorials to look at for this data set. I intend to study those and try again.\n"
   ]
  },
  {
   "cell_type": "code",
   "execution_count": 40,
   "id": "e74e4b0f",
   "metadata": {
    "execution": {
     "iopub.execute_input": "2023-02-20T23:35:02.576050Z",
     "iopub.status.busy": "2023-02-20T23:35:02.575594Z",
     "iopub.status.idle": "2023-02-20T23:35:02.580294Z",
     "shell.execute_reply": "2023-02-20T23:35:02.579305Z"
    },
    "papermill": {
     "duration": 0.031945,
     "end_time": "2023-02-20T23:35:02.582347",
     "exception": false,
     "start_time": "2023-02-20T23:35:02.550402",
     "status": "completed"
    },
    "tags": []
   },
   "outputs": [],
   "source": [
    "import pickle"
   ]
  },
  {
   "cell_type": "code",
   "execution_count": 41,
   "id": "8d84c50d",
   "metadata": {
    "execution": {
     "iopub.execute_input": "2023-02-20T23:35:02.631679Z",
     "iopub.status.busy": "2023-02-20T23:35:02.630985Z",
     "iopub.status.idle": "2023-02-20T23:35:02.646907Z",
     "shell.execute_reply": "2023-02-20T23:35:02.645982Z"
    },
    "papermill": {
     "duration": 0.043653,
     "end_time": "2023-02-20T23:35:02.649540",
     "exception": false,
     "start_time": "2023-02-20T23:35:02.605887",
     "status": "completed"
    },
    "tags": []
   },
   "outputs": [],
   "source": [
    "pickle.dump(clf, open('titanic.pkl', 'wb'))"
   ]
  }
 ],
 "metadata": {
  "kernelspec": {
   "display_name": "Python 3",
   "language": "python",
   "name": "python3"
  },
  "language_info": {
   "codemirror_mode": {
    "name": "ipython",
    "version": 3
   },
   "file_extension": ".py",
   "mimetype": "text/x-python",
   "name": "python",
   "nbconvert_exporter": "python",
   "pygments_lexer": "ipython3",
   "version": "3.7.12"
  },
  "papermill": {
   "default_parameters": {},
   "duration": 24.830424,
   "end_time": "2023-02-20T23:35:03.595100",
   "environment_variables": {},
   "exception": null,
   "input_path": "__notebook__.ipynb",
   "output_path": "__notebook__.ipynb",
   "parameters": {},
   "start_time": "2023-02-20T23:34:38.764676",
   "version": "2.3.4"
  }
 },
 "nbformat": 4,
 "nbformat_minor": 5
}
